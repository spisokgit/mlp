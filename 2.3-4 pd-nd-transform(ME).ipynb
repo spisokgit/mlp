{
 "cells": [
  {
   "cell_type": "code",
   "execution_count": 1,
   "metadata": {},
   "outputs": [],
   "source": [
    "import pandas as pd\n",
    "import numpy as np\n",
    "from sklearn.tree import DecisionTreeClassifier\n",
    "from sklearn.metrics import accuracy_score\n",
    "from sklearn.datasets import load_iris\n",
    "from sklearn.model_selection import train_test_split\n",
    "from sklearn.model_selection import KFold, StratifiedKFold"
   ]
  },
  {
   "cell_type": "code",
   "execution_count": 2,
   "metadata": {},
   "outputs": [
    {
     "data": {
      "text/plain": [
       "2    50\n",
       "1    50\n",
       "0    50\n",
       "Name: label, dtype: int64"
      ]
     },
     "execution_count": 2,
     "metadata": {},
     "output_type": "execute_result"
    }
   ],
   "source": [
    "dt_clf=DecisionTreeClassifier(random_state=156)\n",
    "iris = load_iris()\n",
    "iris_df = pd.DataFrame(data=iris.data, columns=iris.feature_names)\n",
    "iris_df['label']=iris.target\n",
    "iris_df['label'].value_counts()"
   ]
  },
  {
   "cell_type": "code",
   "execution_count": 5,
   "metadata": {},
   "outputs": [
    {
     "name": "stdout",
     "output_type": "stream",
     "text": [
      "accuracy = 1.0\n",
      "accuracy = 0.9667\n",
      "accuracy = 0.8667\n",
      "accuracy = 0.9333\n",
      "accuracy = 0.7333\n",
      "mean cv_accuracy : 0.9\n"
     ]
    }
   ],
   "source": [
    "kfold = KFold(n_splits=5)\n",
    "n_iter=0\n",
    "cv_accuracy =[]\n",
    "for train_index, test_index in kfold.split(iris_df):\n",
    "    n_iter += 1\n",
    "    #print(f'train_index : {train_index}') # [50 51 ... 149]  # n_splits = 3 일때\n",
    "    #break\n",
    "    \n",
    "    label_train = iris_df['label'].iloc[train_index]\n",
    "    #print(f'label_train : {label_train}')\n",
    "    #break\n",
    "    label_test = iris_df['label'].iloc[test_index]\n",
    "    data_train = iris_df[['sepal length (cm)', 'sepal width (cm)', 'petal length (cm)', 'petal width (cm)']].iloc[train_index]\n",
    "#     print(f'data_train : \\n {data_train}')\n",
    "#     break\n",
    "    data_test = iris_df[['sepal length (cm)', 'sepal width (cm)', 'petal length (cm)', 'petal width (cm)']].iloc[test_index]\n",
    "    \n",
    "    # df -> ndarray\n",
    "    nd_label_train = label_train.values\n",
    "    #print(f'nd_label_train : {nd_label_train}')\n",
    "    #print(f'type(nd_label_train) : {type(nd_label_train)}')\n",
    "    nd_label_test = label_test.values\n",
    "    nd_data_train = data_train.values\n",
    "    #print(f'nd_data_train : {nd_data_train}')\n",
    "    nd_data_test = data_test.values\n",
    "    #break\n",
    "    \n",
    "    dt_clf.fit(nd_data_train, nd_label_train)\n",
    "    pred=dt_clf.predict(nd_data_test)\n",
    "#     print(f'pred : {pred}')\n",
    "#     print(f'nd_label_test : {nd_label_test}')\n",
    "    \n",
    "    accuracy = np.round(accuracy_score(nd_label_test, pred), 4) # np.round(, 4) : 소수 4째자리에서 반올림\n",
    "    print(f'accuracy = {accuracy}') # n_splits = 3일경우 0, 5이면 수치가 나옴\n",
    "    cv_accuracy.append(accuracy)\n",
    "    \n",
    "print(f'mean cv_accuracy : {np.mean(cv_accuracy)}')"
   ]
  },
  {
   "cell_type": "code",
   "execution_count": 4,
   "metadata": {},
   "outputs": [
    {
     "name": "stdout",
     "output_type": "stream",
     "text": [
      "label_train.value_counts :\n",
      "2    33\n",
      "1    33\n",
      "0    33\n",
      "Name: label, dtype: int64\n",
      "label_test.value_counts :\n",
      "2    17\n",
      "1    17\n",
      "0    17\n",
      "Name: label, dtype: int64\n",
      "label_train.value_counts :\n",
      "2    33\n",
      "1    33\n",
      "0    33\n",
      "Name: label, dtype: int64\n",
      "label_test.value_counts :\n",
      "2    17\n",
      "1    17\n",
      "0    17\n",
      "Name: label, dtype: int64\n",
      "label_train.value_counts :\n",
      "2    34\n",
      "1    34\n",
      "0    34\n",
      "Name: label, dtype: int64\n",
      "label_test.value_counts :\n",
      "2    16\n",
      "1    16\n",
      "0    16\n",
      "Name: label, dtype: int64\n"
     ]
    }
   ],
   "source": [
    "skf = StratifiedKFold(n_splits=3)\n",
    "n_iter=0\n",
    "cv_accuracy =[]\n",
    "for train_index, test_index in skf.split(iris_df, iris_df['label']):\n",
    "    n_iter += 1\n",
    "    #print(f'train_index : {train_index}')\n",
    "    #break\n",
    "    \n",
    "    label_train = iris_df['label'].iloc[train_index]\n",
    "    #print(f'label_train : {label_train}')\n",
    "    #break\n",
    "    label_test = iris_df['label'].iloc[test_index]\n",
    "    print(f'label_train.value_counts :\\n{label_train.value_counts()}')\n",
    "    print(f'label_test.value_counts :\\n{label_test.value_counts()}')\n",
    "    "
   ]
  },
  {
   "cell_type": "code",
   "execution_count": 7,
   "metadata": {},
   "outputs": [
    {
     "name": "stdout",
     "output_type": "stream",
     "text": [
      "type(x_train) : <class 'numpy.ndarray'>, x_train.shape : (99, 4), x_train.shape[0] : 99\n",
      "            type(x_test) : <class 'numpy.ndarray'>, x_test.shape : (51, 4), x_test.shape[0] : 51\n",
      "            accuracy : 0.9804\n",
      "\n",
      "type(x_train) : <class 'numpy.ndarray'>, x_train.shape : (99, 4), x_train.shape[0] : 99\n",
      "            type(x_test) : <class 'numpy.ndarray'>, x_test.shape : (51, 4), x_test.shape[0] : 51\n",
      "            accuracy : 0.9216\n",
      "\n",
      "type(x_train) : <class 'numpy.ndarray'>, x_train.shape : (102, 4), x_train.shape[0] : 102\n",
      "            type(x_test) : <class 'numpy.ndarray'>, x_test.shape : (48, 4), x_test.shape[0] : 48\n",
      "            accuracy : 0.9792\n",
      "\n",
      "np.round(cv_accuracy) : [1. 1. 1.]\n"
     ]
    }
   ],
   "source": [
    "dt_clf = DecisionTreeClassifier(random_state=156)\n",
    "skfold = StratifiedKFold(n_splits=3)\n",
    "cv_accuracy=[]\n",
    "for train_index, test_index in skfold.split(iris.data, iris.target): #skfold.split(값:nd.array)  #cf) df\n",
    "    x_train, x_test = iris.data[train_index], iris.data[test_index]\n",
    "    y_train, y_test = iris.target[train_index], iris.target[test_index]\n",
    "    \n",
    "    dt_clf.fit(x_train, y_train)\n",
    "    pred = dt_clf.predict(x_test)\n",
    "    \n",
    "    accuracy = np.round(accuracy_score(y_test, pred), 4)\n",
    "    cv_accuracy.append(accuracy)\n",
    "    \n",
    "    print(f'type(x_train) : {type(x_train)}, x_train.shape : {x_train.shape}, x_train.shape[0] : {x_train.shape[0]}\\n\\\n",
    "            type(x_test) : {type(x_test)}, x_test.shape : {x_test.shape}, x_test.shape[0] : {x_test.shape[0]}\\n\\\n",
    "            accuracy : {accuracy}\\n')\n",
    "print(f'np.round(cv_accuracy) : {np.round(cv_accuracy)}')\n",
    "    \n",
    "    "
   ]
  },
  {
   "cell_type": "code",
   "execution_count": null,
   "metadata": {},
   "outputs": [],
   "source": []
  }
 ],
 "metadata": {
  "kernelspec": {
   "display_name": "Python 3",
   "language": "python",
   "name": "python3"
  },
  "language_info": {
   "codemirror_mode": {
    "name": "ipython",
    "version": 3
   },
   "file_extension": ".py",
   "mimetype": "text/x-python",
   "name": "python",
   "nbconvert_exporter": "python",
   "pygments_lexer": "ipython3",
   "version": "3.7.3"
  }
 },
 "nbformat": 4,
 "nbformat_minor": 2
}
