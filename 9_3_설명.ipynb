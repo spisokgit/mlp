{
 "cells": [
  {
   "cell_type": "markdown",
   "metadata": {},
   "source": [
    "### 추천시스템 유형\n",
    "* 9-5 콘텐츠기반\n",
    "* 협업\n",
    "    + 최근접(Nearest Neighbor) 협업 필터링 => 아마존\n",
    "        - 사용자기반\n",
    "        - 9-6 아이템기반\n",
    "    + 9-4, 9-7 잠재(Latent)요인 협업 필터링\n",
    "* 넷플릭스 추천시스템 경연대회에서 행렬분해(Matrix Factoriztion)기법 잠재요인 협업필터링 우승\n",
    "* 하이브리드 개인화 강화"
   ]
  },
  {
   "cell_type": "code",
   "execution_count": null,
   "metadata": {},
   "outputs": [],
   "source": [
    "#### 콘텐츠기반\n",
    "* 사용자가 특정한 아이템을 선호(평점) -> 비스한 콘텐츠 추천\n",
    "\n",
    "#### 최근접 협업 필터링\n",
    "* 친구들에게 물어보는 방식, 사용자 행동양식만을 기반으로 추천수행\n",
    "* 사용자가 평가한 아이템을 기반으로 평가하지 않은 아이템을 예측평가하는 알고리즘\n",
    "    + ==> 판다스 pivot_table() 함수\n",
    "    + 희소행렬(Sparse Matrix) 특정\n",
    "* 사용자기반 : 당신과 비슷한 고객이 다음 상품도 구매했습니다.\n",
    "    + 유사한 다른 사용한 TOP-N 선정 추천\n",
    "    + 특정사용자와 유사도 측정 가장 유사도가 높은 사용자가 TOP-N 사용자로 추출 그들이 선호하는 아이템 추천\n",
    "    + 영화평점에 대해 행(row) 사용자들, 열(column) 영화들 ==> 동일영화에 대해 평점을 비슷하게 준 사용자들끼리 유사도 높다는 알고리즘\n",
    "* 아이템기반 : 이 상품을 선태한 다른 고객들은 다음 상품도 구매했습니다. \n",
    "    + 아이템 속성이 아니라 아이템을 좋아하는지/싫어하는지의 평가 척도가 기준\n",
    "    + 모든 사용자를 행(row,로우)으로, 모든 아이템을 열(column)로 => 사용자별 아이템에 대한 평점을 값으로 행렬데이터 셋을 만들고 \n",
    "    + 사용자기반과 아이템기반은 행과 열이 바뀌게 됨 ==> 사용자기준으로 높은 평점을 받은 영화들끼리 유사도(코사인) 평가\n",
    "    + 아이템 기반이 더 정확함 ==> 대부분 최근접 협업은 아이템 기반임"
   ]
  },
  {
   "cell_type": "code",
   "execution_count": null,
   "metadata": {},
   "outputs": [],
   "source": [
    "### 잠재요인 협업 필터링\n",
    "* 최근접에서 나왔던 사용자-아이템 평점 매트릭스 이용\n",
    "* 사용자-아이템 평점 매트릭스속에 숨어 있는 잠재요인 추출해 추천 예측\n",
    "\n",
    "* 대규모 다차원 행렬 SVD(6장)과 같은 차원축소 기법, 행렬분해\n",
    "* 사용자 아이템 평점 점수를 아래와 같이 장르를 매개로 분해\n",
    "    + R(M X N) = P(M X K) * (K X N)\n",
    "    + P 사용자별 장르선호도, Q 영화별 장르요소 => 장르를 중간 매개요소\n",
    "    + R = P * Q.T  ==> \n",
    "* 행렬분해는 SVD사용, but 널(NaN)값이 없는 행렬에만 적용\n",
    "    + R 사용자-아이템 행렬에는 널값이 많음\n",
    "    + SGD(Stochastic Graident Descent, 확률적 경사하강법)이나 ALS(Alternating Least Squares)방식이용 SVD수행\n",
    "     - 비용함수를 최소화하는 방향으로 반복수행"
   ]
  },
  {
   "cell_type": "code",
   "execution_count": null,
   "metadata": {},
   "outputs": [],
   "source": [
    "Q"
   ]
  }
 ],
 "metadata": {
  "kernelspec": {
   "display_name": "Python 3",
   "language": "python",
   "name": "python3"
  },
  "language_info": {
   "codemirror_mode": {
    "name": "ipython",
    "version": 3
   },
   "file_extension": ".py",
   "mimetype": "text/x-python",
   "name": "python",
   "nbconvert_exporter": "python",
   "pygments_lexer": "ipython3",
   "version": "3.7.3"
  }
 },
 "nbformat": 4,
 "nbformat_minor": 2
}
