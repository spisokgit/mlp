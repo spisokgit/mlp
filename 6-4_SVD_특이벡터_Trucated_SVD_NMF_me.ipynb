{
 "cells": [
  {
   "cell_type": "markdown",
   "metadata": {},
   "source": [
    "## SVD singular Value Decomposition\n",
    "* m X n = (m X m) (m X n) (n X n)\n",
    "\n",
    "## Trucated SVD\n",
    "* m X n = (m X p) (p X p) (p X n)"
   ]
  },
  {
   "cell_type": "code",
   "execution_count": 1,
   "metadata": {},
   "outputs": [
    {
     "name": "stdout",
     "output_type": "stream",
     "text": [
      "[[-0.212 -0.285 -0.574 -0.44 ]\n",
      " [-0.33   1.184  1.615  0.367]\n",
      " [-0.014  0.63   1.71  -1.327]\n",
      " [ 0.402 -0.191  1.404 -1.969]]\n"
     ]
    }
   ],
   "source": [
    "# numpy의 svd 모듈 import\n",
    "import numpy as np\n",
    "from numpy.linalg import svd\n",
    "\n",
    "# 4X4 Random 행렬 a 생성 \n",
    "np.random.seed(121)\n",
    "a = np.random.randn(4,4)\n",
    "print(np.round(a, 3))"
   ]
  },
  {
   "cell_type": "markdown",
   "metadata": {},
   "source": [
    "## SVD 적용하면  U, Sigma, Vt 반환  \n",
    "* Sigma 대각행렬 \n",
    "  - 대각 0이 아니고 나머지 0, 0이 아닌 대각 값만 1차원행렬로 표현\n",
    "* 리턴 U, Sigma, Vt"
   ]
  },
  {
   "cell_type": "code",
   "execution_count": 2,
   "metadata": {},
   "outputs": [
    {
     "name": "stdout",
     "output_type": "stream",
     "text": [
      "(4, 4) (4,) (4, 4)\n",
      "U matrix:\n",
      " [[-0.079 -0.318  0.867  0.376]\n",
      " [ 0.383  0.787  0.12   0.469]\n",
      " [ 0.656  0.022  0.357 -0.664]\n",
      " [ 0.645 -0.529 -0.328  0.444]]\n",
      "Sigma Value:\n",
      " [3.423 2.023 0.463 0.079]\n",
      "V transpose matrix:\n",
      " [[ 0.041  0.224  0.786 -0.574]\n",
      " [-0.2    0.562  0.37   0.712]\n",
      " [-0.778  0.395 -0.333 -0.357]\n",
      " [-0.593 -0.692  0.366  0.189]]\n"
     ]
    }
   ],
   "source": [
    "U, Sigma, Vt = svd(a)\n",
    "print(U.shape, Sigma.shape, Vt.shape)\n",
    "print('U matrix:\\n',np.round(U, 3))\n",
    "print('Sigma Value:\\n',np.round(Sigma, 3))\n",
    "print('V transpose matrix:\\n',np.round(Vt, 3))"
   ]
  },
  {
   "cell_type": "code",
   "execution_count": 3,
   "metadata": {},
   "outputs": [
    {
     "name": "stdout",
     "output_type": "stream",
     "text": [
      "[[-0.212 -0.285 -0.574 -0.44 ]\n",
      " [-0.33   1.184  1.615  0.367]\n",
      " [-0.014  0.63   1.71  -1.327]\n",
      " [ 0.402 -0.191  1.404 -1.969]]\n"
     ]
    }
   ],
   "source": [
    "# Sima를 다시 0 을 포함한 대칭행렬로 변환\n",
    "Sigma_mat = np.diag(Sigma)\n",
    "a_ = np.dot(np.dot(U, Sigma_mat), Vt)\n",
    "print(np.round(a_, 3))"
   ]
  },
  {
   "cell_type": "code",
   "execution_count": 4,
   "metadata": {},
   "outputs": [
    {
     "name": "stdout",
     "output_type": "stream",
     "text": [
      "[[-0.212 -0.285 -0.574 -0.44 ]\n",
      " [-0.33   1.184  1.615  0.367]\n",
      " [-0.542  0.899  1.041 -0.073]\n",
      " [-0.212 -0.285 -0.574 -0.44 ]]\n"
     ]
    }
   ],
   "source": [
    "# 의존성 강화\n",
    "a[2] = a[0] + a[1]\n",
    "a[3] = a[0]\n",
    "print(np.round(a,3))"
   ]
  },
  {
   "cell_type": "code",
   "execution_count": 5,
   "metadata": {},
   "outputs": [
    {
     "name": "stdout",
     "output_type": "stream",
     "text": [
      "(4, 4) (4,) (4, 4)\n",
      "Sigma Value:\n",
      " [2.663 0.807 0.    0.   ]\n"
     ]
    }
   ],
   "source": [
    "# 다시 SVD를 수행하여 Sigma 값 확인 \n",
    "U, Sigma, Vt = svd(a)\n",
    "print(U.shape, Sigma.shape, Vt.shape)\n",
    "print('Sigma Value:\\n',np.round(Sigma,3)) # 대각행렬의 1차원 값"
   ]
  },
  {
   "cell_type": "code",
   "execution_count": 6,
   "metadata": {},
   "outputs": [
    {
     "name": "stdout",
     "output_type": "stream",
     "text": [
      "(4, 2) (2, 2) (2, 4)\n",
      "[[-0.212 -0.285 -0.574 -0.44 ]\n",
      " [-0.33   1.184  1.615  0.367]\n",
      " [-0.542  0.899  1.041 -0.073]\n",
      " [-0.212 -0.285 -0.574 -0.44 ]]\n"
     ]
    }
   ],
   "source": [
    "# U 행렬의 경우는 Sigma와 내적을 수행하므로 Sigma의 앞 2행에 대응되는 앞 2열만 추출\n",
    "U_ = U[:, :2]\n",
    "Sigma_ = np.diag(Sigma[:2])\n",
    "\n",
    "# V 전치 행렬의 경우는 앞 2행만 추출\n",
    "Vt_ = Vt[:2]\n",
    "print(U_.shape, Sigma_.shape, Vt_.shape)\n",
    "\n",
    "# U, Sigma, Vt의 내적을 수행하며, 다시 원본 행렬 복원\n",
    "a_ = np.dot(np.dot(U_,Sigma_), Vt_)\n",
    "print(np.round(a_, 3))"
   ]
  },
  {
   "cell_type": "markdown",
   "metadata": {},
   "source": [
    "##  Truncated SVD \n",
    "* 특이값 분해\n",
    "* scipy 지원\n",
    "* .fit  .transform를 통해 pca와 비슷하게 차원 축소"
   ]
  },
  {
   "cell_type": "code",
   "execution_count": 7,
   "metadata": {},
   "outputs": [
    {
     "name": "stdout",
     "output_type": "stream",
     "text": [
      "원본 행렬:\n",
      " [[0.11133083 0.21076757 0.23296249 0.15194456 0.83017814 0.40791941]\n",
      " [0.5557906  0.74552394 0.24849976 0.9686594  0.95268418 0.48984885]\n",
      " [0.01829731 0.85760612 0.40493829 0.62247394 0.29537149 0.92958852]\n",
      " [0.4056155  0.56730065 0.24575605 0.22573721 0.03827786 0.58098021]\n",
      " [0.82925331 0.77326256 0.94693849 0.73632338 0.67328275 0.74517176]\n",
      " [0.51161442 0.46920965 0.6439515  0.82081228 0.14548493 0.01806415]]\n",
      "\n",
      "분해 행렬 차원: (6, 6) (6,) (6, 6)\n",
      "\n",
      "Sigma값 행렬: [3.2535007  0.88116505 0.83865238 0.55463089 0.35834824 0.0349925 ]\n",
      "\n",
      "Truncated SVD 분해 행렬 차원: (6, 4) (4,) (4, 6)\n",
      "\n",
      "Truncated SVD Sigma값 행렬: [0.55463089 0.83865238 0.88116505 3.2535007 ]\n",
      "\n",
      "Truncated SVD로 분해 후 복원 행렬:\n",
      " [[0.19222941 0.21792946 0.15951023 0.14084013 0.81641405 0.42533093]\n",
      " [0.44874275 0.72204422 0.34594106 0.99148577 0.96866325 0.4754868 ]\n",
      " [0.12656662 0.88860729 0.30625735 0.59517439 0.28036734 0.93961948]\n",
      " [0.23989012 0.51026588 0.39697353 0.27308905 0.05971563 0.57156395]\n",
      " [0.83806144 0.78847467 0.93868685 0.72673231 0.6740867  0.73812389]\n",
      " [0.59726589 0.47953891 0.56613544 0.80746028 0.13135039 0.03479656]]\n"
     ]
    }
   ],
   "source": [
    "import numpy as np\n",
    "from scipy.sparse.linalg import svds\n",
    "from scipy.linalg import svd\n",
    "\n",
    "# 원본 행렬을 출력하고, SVD를 적용할 경우 U, Sigma, Vt 의 차원 확인 \n",
    "np.random.seed(121)\n",
    "matrix = np.random.random((6, 6))\n",
    "print('원본 행렬:\\n',matrix)\n",
    "U, Sigma, Vt = svd(matrix, full_matrices=False)\n",
    "print('\\n분해 행렬 차원:',U.shape, Sigma.shape, Vt.shape)\n",
    "print('\\nSigma값 행렬:', Sigma)\n",
    "\n",
    "# Truncated SVD로 Sigma 행렬의 특이값을 4개로 하여 Truncated SVD 수행. \n",
    "num_components = 4\n",
    "U_tr, Sigma_tr, Vt_tr = svds(matrix, k=num_components)\n",
    "print('\\nTruncated SVD 분해 행렬 차원:',U_tr.shape, Sigma_tr.shape, Vt_tr.shape)\n",
    "print('\\nTruncated SVD Sigma값 행렬:', Sigma_tr)\n",
    "matrix_tr = np.dot(np.dot(U_tr,np.diag(Sigma_tr)), Vt_tr)  # output of TruncatedSVD\n",
    "\n",
    "print('\\nTruncated SVD로 분해 후 복원 행렬:\\n', matrix_tr)\n",
    "# 완벽하게 복원되지 않고 근사하게 복원됨"
   ]
  },
  {
   "cell_type": "markdown",
   "metadata": {},
   "source": [
    "## sklearn TruncatedSVD class 이용한 변환"
   ]
  },
  {
   "cell_type": "code",
   "execution_count": 8,
   "metadata": {},
   "outputs": [
    {
     "data": {
      "text/plain": [
       "Text(0, 0.5, 'TruncatedSVD Component 2')"
      ]
     },
     "execution_count": 8,
     "metadata": {},
     "output_type": "execute_result"
    },
    {
     "data": {
      "image/png": "[encoded data removed]",
      "text/plain": [
       "<Figure size 432x288 with 1 Axes>"
      ]
     },
     "metadata": {
      "needs_background": "light"
     },
     "output_type": "display_data"
    }
   ],
   "source": [
    "from sklearn.decomposition import TruncatedSVD, PCA\n",
    "from sklearn.datasets import load_iris\n",
    "import matplotlib.pyplot as plt\n",
    "%matplotlib inline\n",
    "\n",
    "iris = load_iris()\n",
    "iris_ftrs = iris.data\n",
    "\n",
    "# 2개의 주요 component로 TruncatedSVD 변환\n",
    "tsvd = TruncatedSVD(n_components=2)\n",
    "tsvd.fit(iris_ftrs)\n",
    "iris_tsvd = tsvd.transform(iris_ftrs) #np.array\n",
    "\n",
    "# Scatter plot 2차원으로 TruncatedSVD 변환 된 데이터 표현. 품종은 색깔로 구분\n",
    "plt.scatter(x=iris_tsvd[:,0], y= iris_tsvd[:,1], c= iris.target)\n",
    "plt.xlabel('TruncatedSVD Component 1')\n",
    "plt.ylabel('TruncatedSVD Component 2')"
   ]
  },
  {
   "cell_type": "code",
   "execution_count": 10,
   "metadata": {},
   "outputs": [
    {
     "ename": "AttributeError",
     "evalue": "'numpy.ndarray' object has no attribute 'get'",
     "output_type": "error",
     "traceback": [
      "\u001b[0;31m\u001b[0m",
      "\u001b[0;31mAttributeError\u001b[0mTraceback (most recent call last)",
      "\u001b[0;32m<ipython-input-10-dcf1b12f90cb>\u001b[0m in \u001b[0;36m<module>\u001b[0;34m\u001b[0m\n\u001b[1;32m      9\u001b[0m                 \u001b[0mstyle\u001b[0m\u001b[0;34m=\u001b[0m\u001b[0miris\u001b[0m\u001b[0;34m.\u001b[0m\u001b[0mtarget\u001b[0m\u001b[0;34m,\u001b[0m \u001b[0;31m# different shapes by group\u001b[0m\u001b[0;34m\u001b[0m\u001b[0;34m\u001b[0m\u001b[0m\n\u001b[1;32m     10\u001b[0m                 \u001b[0ms\u001b[0m\u001b[0;34m=\u001b[0m\u001b[0;36m50\u001b[0m\u001b[0;34m,\u001b[0m \u001b[0;31m# marker size\u001b[0m\u001b[0;34m\u001b[0m\u001b[0;34m\u001b[0m\u001b[0m\n\u001b[0;32m---> 11\u001b[0;31m                 data=iris_tsvd)\n\u001b[0m\u001b[1;32m     12\u001b[0m \u001b[0mplt\u001b[0m\u001b[0;34m.\u001b[0m\u001b[0mshow\u001b[0m\u001b[0;34m(\u001b[0m\u001b[0;34m)\u001b[0m\u001b[0;34m\u001b[0m\u001b[0;34m\u001b[0m\u001b[0m\n",
      "\u001b[0;32m/opt/conda/lib/python3.7/site-packages/seaborn/relational.py\u001b[0m in \u001b[0;36mscatterplot\u001b[0;34m(x, y, hue, style, size, data, palette, hue_order, hue_norm, sizes, size_order, size_norm, markers, style_order, x_bins, y_bins, units, estimator, ci, n_boot, alpha, x_jitter, y_jitter, legend, ax, **kwargs)\u001b[0m\n\u001b[1;32m   1333\u001b[0m         \u001b[0mx_bins\u001b[0m\u001b[0;34m=\u001b[0m\u001b[0mx_bins\u001b[0m\u001b[0;34m,\u001b[0m \u001b[0my_bins\u001b[0m\u001b[0;34m=\u001b[0m\u001b[0my_bins\u001b[0m\u001b[0;34m,\u001b[0m\u001b[0;34m\u001b[0m\u001b[0;34m\u001b[0m\u001b[0m\n\u001b[1;32m   1334\u001b[0m         \u001b[0mestimator\u001b[0m\u001b[0;34m=\u001b[0m\u001b[0mestimator\u001b[0m\u001b[0;34m,\u001b[0m \u001b[0mci\u001b[0m\u001b[0;34m=\u001b[0m\u001b[0mci\u001b[0m\u001b[0;34m,\u001b[0m \u001b[0mn_boot\u001b[0m\u001b[0;34m=\u001b[0m\u001b[0mn_boot\u001b[0m\u001b[0;34m,\u001b[0m\u001b[0;34m\u001b[0m\u001b[0;34m\u001b[0m\u001b[0m\n\u001b[0;32m-> 1335\u001b[0;31m         \u001b[0malpha\u001b[0m\u001b[0;34m=\u001b[0m\u001b[0malpha\u001b[0m\u001b[0;34m,\u001b[0m \u001b[0mx_jitter\u001b[0m\u001b[0;34m=\u001b[0m\u001b[0mx_jitter\u001b[0m\u001b[0;34m,\u001b[0m \u001b[0my_jitter\u001b[0m\u001b[0;34m=\u001b[0m\u001b[0my_jitter\u001b[0m\u001b[0;34m,\u001b[0m \u001b[0mlegend\u001b[0m\u001b[0;34m=\u001b[0m\u001b[0mlegend\u001b[0m\u001b[0;34m,\u001b[0m\u001b[0;34m\u001b[0m\u001b[0;34m\u001b[0m\u001b[0m\n\u001b[0m\u001b[1;32m   1336\u001b[0m     )\n\u001b[1;32m   1337\u001b[0m \u001b[0;34m\u001b[0m\u001b[0m\n",
      "\u001b[0;32m/opt/conda/lib/python3.7/site-packages/seaborn/relational.py\u001b[0m in \u001b[0;36m__init__\u001b[0;34m(self, x, y, hue, size, style, data, palette, hue_order, hue_norm, sizes, size_order, size_norm, dashes, markers, style_order, x_bins, y_bins, units, estimator, ci, n_boot, alpha, x_jitter, y_jitter, legend)\u001b[0m\n\u001b[1;32m    850\u001b[0m \u001b[0;34m\u001b[0m\u001b[0m\n\u001b[1;32m    851\u001b[0m         plot_data = self.establish_variables(\n\u001b[0;32m--> 852\u001b[0;31m             \u001b[0mx\u001b[0m\u001b[0;34m,\u001b[0m \u001b[0my\u001b[0m\u001b[0;34m,\u001b[0m \u001b[0mhue\u001b[0m\u001b[0;34m,\u001b[0m \u001b[0msize\u001b[0m\u001b[0;34m,\u001b[0m \u001b[0mstyle\u001b[0m\u001b[0;34m,\u001b[0m \u001b[0munits\u001b[0m\u001b[0;34m,\u001b[0m \u001b[0mdata\u001b[0m\u001b[0;34m\u001b[0m\u001b[0;34m\u001b[0m\u001b[0m\n\u001b[0m\u001b[1;32m    853\u001b[0m         )\n\u001b[1;32m    854\u001b[0m \u001b[0;34m\u001b[0m\u001b[0m\n",
      "\u001b[0;32m/opt/conda/lib/python3.7/site-packages/seaborn/relational.py\u001b[0m in \u001b[0;36mestablish_variables\u001b[0;34m(self, x, y, hue, size, style, units, data)\u001b[0m\n\u001b[1;32m    129\u001b[0m             \u001b[0;31m# Use variables as from the dataframe if specified\u001b[0m\u001b[0;34m\u001b[0m\u001b[0;34m\u001b[0m\u001b[0;34m\u001b[0m\u001b[0m\n\u001b[1;32m    130\u001b[0m             \u001b[0;32mif\u001b[0m \u001b[0mdata\u001b[0m \u001b[0;32mis\u001b[0m \u001b[0;32mnot\u001b[0m \u001b[0;32mNone\u001b[0m\u001b[0;34m:\u001b[0m\u001b[0;34m\u001b[0m\u001b[0;34m\u001b[0m\u001b[0m\n\u001b[0;32m--> 131\u001b[0;31m                 \u001b[0mx\u001b[0m \u001b[0;34m=\u001b[0m \u001b[0mdata\u001b[0m\u001b[0;34m.\u001b[0m\u001b[0mget\u001b[0m\u001b[0;34m(\u001b[0m\u001b[0mx\u001b[0m\u001b[0;34m,\u001b[0m \u001b[0mx\u001b[0m\u001b[0;34m)\u001b[0m\u001b[0;34m\u001b[0m\u001b[0;34m\u001b[0m\u001b[0m\n\u001b[0m\u001b[1;32m    132\u001b[0m                 \u001b[0my\u001b[0m \u001b[0;34m=\u001b[0m \u001b[0mdata\u001b[0m\u001b[0;34m.\u001b[0m\u001b[0mget\u001b[0m\u001b[0;34m(\u001b[0m\u001b[0my\u001b[0m\u001b[0;34m,\u001b[0m \u001b[0my\u001b[0m\u001b[0;34m)\u001b[0m\u001b[0;34m\u001b[0m\u001b[0;34m\u001b[0m\u001b[0m\n\u001b[1;32m    133\u001b[0m                 \u001b[0mhue\u001b[0m \u001b[0;34m=\u001b[0m \u001b[0mdata\u001b[0m\u001b[0;34m.\u001b[0m\u001b[0mget\u001b[0m\u001b[0;34m(\u001b[0m\u001b[0mhue\u001b[0m\u001b[0;34m,\u001b[0m \u001b[0mhue\u001b[0m\u001b[0;34m)\u001b[0m\u001b[0;34m\u001b[0m\u001b[0;34m\u001b[0m\u001b[0m\n",
      "\u001b[0;31mAttributeError\u001b[0m: 'numpy.ndarray' object has no attribute 'get'"
     ]
    }
   ],
   "source": [
    "# sns error 'numpy.ndarray' object has no attribute 'get'\n",
    "import numpy as np\n",
    "import pandas as pd\n",
    "import matplotlib.pyplot as plt\n",
    "import seaborn as sns\n",
    "plt.rcParams['figure.figsize'] = [6, 4] # setting figure size\n",
    "sns.scatterplot(x=iris_tsvd[:,0], \n",
    "                y=iris_tsvd[:,1], \n",
    "                hue=iris.target, # different colors by group\n",
    "                style=iris.target, # different shapes by group\n",
    "                s=50, # marker size\n",
    "                data=iris_tsvd)\n",
    "plt.show()"
   ]
  },
  {
   "cell_type": "markdown",
   "metadata": {},
   "source": [
    "\n",
    "## PCA "
   ]
  },
  {
   "cell_type": "code",
   "execution_count": 13,
   "metadata": {},
   "outputs": [
    {
     "data": {
      "image/png": "[encoded data removed]",
      "text/plain": [
       "<Figure size 432x288 with 1 Axes>"
      ]
     },
     "metadata": {
      "needs_background": "light"
     },
     "output_type": "display_data"
    },
    {
     "name": "stdout",
     "output_type": "stream",
     "text": [
      "[0.76740358 0.18282727]\n"
     ]
    }
   ],
   "source": [
    "from sklearn.datasets import load_iris\n",
    "import pandas as pd\n",
    "import matplotlib.pyplot as plt\n",
    "%matplotlib inline\n",
    "\n",
    "columns = ['sepal_length', 'sepal_width', 'petal_length', 'petal_width']\n",
    "df = pd.DataFrame(iris.data, columns=columns)\n",
    "df['target'] = iris.target\n",
    "\n",
    "# pca적용하기 전 스케일링(pca압축하기 전 각 속성값 동일한 스케일로 변환)\n",
    "from sklearn.preprocessing import StandardScaler\n",
    "#df = pd.DataFrame(iris.data, columns=columns)\n",
    "iris_scaled = StandardScaler().fit_transform(df)\n",
    "#iris_scaled.shape # (150,5)\n",
    "\n",
    "from sklearn.decomposition import PCA\n",
    "pca = PCA(n_components=2) # 4차원 => 2차원 PCA 변환\n",
    "pca.fit(iris_scaled)\n",
    "iris_pca = pca.transform(iris_scaled)\n",
    "#iris_pca.shape # (150, 2 )  <=== n_components=2\n",
    "\n",
    "#PCA변환된 데이터 pandas \n",
    "pca_df = pd.DataFrame(iris_pca, columns=['pca_1', 'pca_2'])\n",
    "pca_df['target'] = iris.target\n",
    "# pca_df.head()\n",
    "\n",
    "\n",
    "plt.rcParams['figure.figsize'] = [6, 4] # setting figure size #plt.figure(figsize = (14,14))\n",
    "sns.scatterplot(x='pca_1', \n",
    "                y='pca_2', \n",
    "                hue='target', # different colors by group\n",
    "                style='target', # different shapes by group\n",
    "                s=50, # marker size\n",
    "                data=pca_df)\n",
    "plt.show()\n",
    "\n",
    "\n",
    "print(pca.explained_variance_ratio_)\n",
    "# 변동성의 76% 18%\n"
   ]
  },
  {
   "cell_type": "markdown",
   "metadata": {},
   "source": [
    "## NMF (Non-Negative Matrix Factorization)\n",
    "* V( 4 X 6 ) = W( 4 X 2 ) H( 2 X 6 ) \n",
    "* 이미지압축을 통한 패턴인식, 텍스트의 토픽 모델링 기법, 문서 유사도 및 클러스터링, 추천시스템"
   ]
  },
  {
   "cell_type": "code",
   "execution_count": 15,
   "metadata": {},
   "outputs": [
    {
     "data": {
      "text/plain": [
       "Text(0, 0.5, 'NMF Component 2')"
      ]
     },
     "execution_count": 15,
     "metadata": {},
     "output_type": "execute_result"
    },
    {
     "data": {
      "image/png": "[encoded data removed]",
      "text/plain": [
       "<Figure size 432x288 with 1 Axes>"
      ]
     },
     "metadata": {
      "needs_background": "light"
     },
     "output_type": "display_data"
    }
   ],
   "source": [
    "from sklearn.decomposition import NMF\n",
    "from sklearn.datasets import load_iris\n",
    "import matplotlib.pyplot as plt\n",
    "%matplotlib inline\n",
    "\n",
    "iris = load_iris()\n",
    "iris_ftrs = iris.data\n",
    "\n",
    "nmf = NMF(n_components=2)\n",
    "nmf.fit(iris_ftrs)\n",
    "iris_nmf = nmf.transform(iris_ftrs)\n",
    "\n",
    "plt.scatter(x=iris_nmf[:,0], y= iris_nmf[:,1], c= iris.target)\n",
    "plt.xlabel('NMF Component 1')\n",
    "plt.ylabel('NMF Component 2')\n"
   ]
  },
  {
   "cell_type": "code",
   "execution_count": null,
   "metadata": {},
   "outputs": [],
   "source": []
  }
 ],
 "metadata": {
  "kernelspec": {
   "display_name": "Python 3",
   "language": "python",
   "name": "python3"
  },
  "language_info": {
   "codemirror_mode": {
    "name": "ipython",
    "version": 3
   },
   "file_extension": ".py",
   "mimetype": "text/x-python",
   "name": "python",
   "nbconvert_exporter": "python",
   "pygments_lexer": "ipython3",
   "version": "3.7.3"
  }
 },
 "nbformat": 4,
 "nbformat_minor": 2
}
