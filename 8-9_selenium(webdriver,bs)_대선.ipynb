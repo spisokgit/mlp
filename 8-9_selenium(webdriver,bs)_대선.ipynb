{
 "cells": [
  {
   "cell_type": "code",
   "execution_count": 11,
   "metadata": {},
   "outputs": [],
   "source": [
    "from selenium import webdriver\n",
    "import time\n",
    "# time.sleep(1) 사용하기 위해 1초동안 \n",
    "from bs4 import BeautifulSoup\n",
    "\n",
    "import pandas as pd\n",
    "import numpy as np\n",
    "\n",
    "# 제어 브라우저 작동(윈도우)\n",
    "# driver=webdriver.Chrome(\"chromedriver\")\n",
    "# time.sleep(1)\n",
    "\n",
    "#제어 브라우저 작동(리눅스)\n",
    "from pyvirtualdisplay import Display\n",
    "display = Display(visible=0, size=(1024, 768))\n",
    "display.start()\n",
    "time.sleep(1)"
   ]
  },
  {
   "cell_type": "code",
   "execution_count": 12,
   "metadata": {},
   "outputs": [],
   "source": [
    "chrome_options=webdriver.ChromeOptions()\n",
    "chrome_options.add_argument('--headless')\n",
    "chrome_options.add_argument('--no-sandbox')\n",
    "chrome_options.add_argument('--disable-dev-shm-usage')\n",
    "chrome_options.add_argument(\"--window-size=1920,1080\")\n",
    "driver= webdriver.Chrome('/usr/bin/chromedriver', options=chrome_options)\n",
    "#yield driver\n",
    "time.sleep(1)\n"
   ]
  },
  {
   "cell_type": "code",
   "execution_count": 13,
   "metadata": {},
   "outputs": [],
   "source": [
    "driver.get(\"http://info.nec.go.kr/main/showDocument.xhtml?electionId=0000000000&topMenuId=VC&secondMenuId=VCCP09\")\n",
    "time.sleep(1)\n",
    "\n",
    "#대통령선거 id, click\n",
    "driver.find_element_by_id(\"electionType1\").click()\n",
    "time.sleep(1)\n",
    "\n",
    "# 제19대 선택 id, send_keys\n",
    "driver.find_element_by_id(\"electionName\").send_keys(\"제19대\")\n",
    "time.sleep(1)\n",
    "\n",
    "# 대통령선거 선택 id, send_keys\n",
    "driver.find_element_by_id(\"electionCode\").send_keys(\"대통령선거\")\n",
    "time.sleep(1)\n",
    "\n",
    "# 시도이름 선택 select id\n",
    "sido_list_raw = driver.find_element_by_id(\"cityCode\")\n",
    "time.sleep(1)\n",
    "\n",
    "# 시도이름 선택 option tag\n",
    "sido_list = sido_list_raw.find_elements_by_tag_name(\"option\")\n",
    "time.sleep(1)"
   ]
  },
  {
   "cell_type": "code",
   "execution_count": 14,
   "metadata": {},
   "outputs": [
    {
     "data": {
      "text/plain": [
       "['서울특별시',\n",
       " '부산광역시',\n",
       " '대구광역시',\n",
       " '인천광역시',\n",
       " '광주광역시',\n",
       " '대전광역시',\n",
       " '울산광역시',\n",
       " '세종특별자치시',\n",
       " '경기도',\n",
       " '강원도',\n",
       " '충청북도',\n",
       " '충청남도',\n",
       " '전라북도',\n",
       " '전라남도',\n",
       " '경상북도',\n",
       " '경상남도',\n",
       " '제주특별자치도']"
      ]
     },
     "execution_count": 14,
     "metadata": {},
     "output_type": "execute_result"
    }
   ],
   "source": [
    "#시도이름 추출\n",
    "sido_names_vales=[op.text for op in sido_list]\n",
    "sido_names_vales=sido_names_vales[2:] # 합계, 선택 제외\n",
    "sido_names_vales"
   ]
  },
  {
   "cell_type": "code",
   "execution_count": 15,
   "metadata": {},
   "outputs": [],
   "source": [
    "election_result_raw = {'광역시도':[],\n",
    "                       '시군':[],\n",
    "                       'pop':[],\n",
    "                       'moon':[],\n",
    "                       'hong':[],\n",
    "                       'ahn':[]\n",
    "                      }"
   ]
  },
  {
   "cell_type": "code",
   "execution_count": 16,
   "metadata": {},
   "outputs": [],
   "source": [
    "import re\n",
    "def get_num(tmp):\n",
    "    return re.split('\\(', tmp)[0].replace(\",\", \"\") #"
   ]
  },
  {
   "cell_type": "code",
   "execution_count": 17,
   "metadata": {},
   "outputs": [],
   "source": [
    "for each_sido in sido_names_vales:\n",
    "    \n",
    "    # 시도이름 선택 select id\n",
    "    element = driver.find_element_by_id(\"cityCode\")\n",
    "    element.send_keys(each_sido)\n",
    "\n",
    "    #검색버튼 클릭 click\n",
    "    driver.find_element_by_id(\"searchBtn\").click()\n",
    "\n",
    "    #     #시도코드 선택 send_keys\n",
    "    #     driver.find_element_by_id(\"cityCode\").send_keys(each_sido)\n",
    "\n",
    "    # 소스코드 전체파싱\n",
    "    html = driver.page_source\n",
    "\n",
    "    # 소스코드 받아오기\n",
    "    soup = BeautifulSoup(html, \"html.parser\")\n",
    "\n",
    "    # 테이블 soup에 넣기\n",
    "    table = soup.find(id=\"table01\")\n",
    "\n",
    "    # df 문자열로 바뀐 상태에서 문자열만 추출해 내어 데이터프레임형태로 list에 저장\n",
    "    df=pd.read_html(str(table))\n",
    "    \n",
    "    #print(f'df[0].values[1:]:{df[0].values[1:]}')\n",
    "    \n",
    "    for each in df[0].values[1:]:\n",
    "        election_result_raw['광역시도'].append(each_sido)\n",
    "        election_result_raw['시군'].append(each[0])\n",
    "        election_result_raw['pop'].append(each[2])  # popular 인구수\n",
    "        election_result_raw['moon'].append(get_num(each[3]))\n",
    "        election_result_raw['hong'].append(get_num(each[4]))\n",
    "        election_result_raw['ahn'].append(get_num(each[5]))"
   ]
  },
  {
   "cell_type": "code",
   "execution_count": 18,
   "metadata": {},
   "outputs": [
    {
     "data": {
      "text/plain": [
       "['광역시도', '시군', 'pop', 'moon', 'hong', 'ahn']"
      ]
     },
     "execution_count": 18,
     "metadata": {},
     "output_type": "execute_result"
    }
   ],
   "source": [
    "columns = []\n",
    "for key in election_result_raw.keys():\n",
    "    columns.append(key)\n",
    "columns"
   ]
  },
  {
   "cell_type": "code",
   "execution_count": 9,
   "metadata": {},
   "outputs": [],
   "source": [
    "driver.quit()"
   ]
  },
  {
   "cell_type": "code",
   "execution_count": null,
   "metadata": {},
   "outputs": [],
   "source": []
  }
 ],
 "metadata": {
  "kernelspec": {
   "display_name": "Python 3",
   "language": "python",
   "name": "python3"
  },
  "language_info": {
   "codemirror_mode": {
    "name": "ipython",
    "version": 3
   },
   "file_extension": ".py",
   "mimetype": "text/x-python",
   "name": "python",
   "nbconvert_exporter": "python",
   "pygments_lexer": "ipython3",
   "version": "3.7.3"
  }
 },
 "nbformat": 4,
 "nbformat_minor": 2
}
