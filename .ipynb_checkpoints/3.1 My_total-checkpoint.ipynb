{
 "cells": [
  {
   "cell_type": "code",
   "execution_count": 1,
   "metadata": {},
   "outputs": [],
   "source": [
    "from sklearn.base import BaseEstimator\n",
    "import numpy as np\n",
    "\n",
    "class MyDummyClassifier(BaseEstimator):\n",
    "    def fit(self, x, y=None):\n",
    "        pass\n",
    "    def predict(self, x):\n",
    "        pred=np.zeros((x.shape[0], 1))\n",
    "        print(pred.shape)\n",
    "        for i in range(x.shape[0]):\n",
    "            if x['Sex'].iloc[i] == 1:\n",
    "                pred[i] = 0\n",
    "            else :\n",
    "                pred[i] = 1\n",
    "        return pred"
   ]
  },
  {
   "cell_type": "code",
   "execution_count": 2,
   "metadata": {},
   "outputs": [],
   "source": [
    "import pandas as pd\n",
    "from sklearn.model_selection import train_test_split\n",
    "from sklearn.metrics import accuracy_score\n",
    "from sklearn.preprocessing import LabelEncoder\n",
    "\n",
    "def encode_features(df):\n",
    "    df['Cabin']=df['Cabin'].str[:1]\n",
    "    features = ['Cabin', 'Sex', 'Embarked']\n",
    "    for f in features:\n",
    "        le=LabelEncoder()\n",
    "        le.fit(df[f])\n",
    "        df[f]=le.transform(df[f])\n",
    "    return df\n",
    "\n",
    "\n",
    "#null 처리 함수\n",
    "def fillna(df):\n",
    "    df['Age'].fillna(df['Age'].mean(), inplace=True)\n",
    "    df['Cabin'].fillna('N', inplace=True)\n",
    "    df['Embarked'].fillna('N', inplace=True)\n",
    "    df['Fare'].fillna(0, inplace=True)\n",
    "    return df\n",
    "\n",
    "#불필요한  feature 제거 함수\n",
    "def drop_feature(df):\n",
    "    df.drop(['PassengerId', 'Name', 'Ticket'], axis=1, inplace=True)\n",
    "    return df\n",
    "\n",
    "def transform_features(df):\n",
    "    df = fillna(df)\n",
    "    df = drop_feature(df)\n",
    "    df = encode_features(df)\n",
    "    return df\n",
    "\n",
    "df=pd.read_csv('titanic_train.csv')\n",
    "y_df = df['Survived']\n",
    "x_df = df.drop('Survived', axis=1)\n",
    "x_df = transform_features(x_df)\n",
    "\n",
    "from sklearn.model_selection import train_test_split\n",
    "x_train, x_test, y_train, y_test=train_test_split(x_df,y_df,test_size=0.2, random_state=11 )\n"
   ]
  },
  {
   "cell_type": "code",
   "execution_count": 3,
   "metadata": {},
   "outputs": [
    {
     "name": "stdout",
     "output_type": "stream",
     "text": [
      "(179, 1)\n",
      "accuracy_score(y_test, pred):0.8324022346368715\n"
     ]
    }
   ],
   "source": [
    "myclf = MyDummyClassifier()\n",
    "myclf.fit(x_train, y_train)\n",
    "pred = myclf.predict(x_test)\n",
    "print(f'accuracy_score(y_test, pred):{accuracy_score(y_test, pred)}')"
   ]
  },
  {
   "cell_type": "markdown",
   "metadata": {},
   "source": [
    "\n",
    "## 오차행렬, Precision  Recall"
   ]
  },
  {
   "cell_type": "code",
   "execution_count": 4,
   "metadata": {},
   "outputs": [],
   "source": [
    "from sklearn.metrics import accuracy_score, precision_score , recall_score , confusion_matrix\n",
    "\n",
    "def get_clf_eval(y_test , pred):\n",
    "    confusion = confusion_matrix( y_test, pred)\n",
    "    accuracy = accuracy_score(y_test , pred)\n",
    "    precision = precision_score(y_test , pred)\n",
    "    recall = recall_score(y_test , pred)\n",
    "    print('오차 행렬')\n",
    "    print(confusion)\n",
    "    print('정확도: {0:.4f}, 정밀도: {1:.4f}, 재현율: {2:.4f}'.format(accuracy , precision ,recall))"
   ]
  },
  {
   "cell_type": "code",
   "execution_count": 5,
   "metadata": {
    "scrolled": true
   },
   "outputs": [
    {
     "name": "stdout",
     "output_type": "stream",
     "text": [
      "type(pred) : <class 'numpy.ndarray'>,\n",
      " pred[:3] : [1 0 0]\n",
      "type(y_test) : <class 'pandas.core.series.Series'>,\n",
      " y_test.value_counts() :\n",
      "0    118\n",
      "1     61\n",
      "Name: Survived, dtype: int64\n",
      "오차 행렬\n",
      "[[108  10]\n",
      " [ 14  47]]\n",
      "정확도: 0.8659, 정밀도: 0.8246, 재현율: 0.7705\n"
     ]
    },
    {
     "name": "stderr",
     "output_type": "stream",
     "text": [
      "/opt/conda/lib/python3.7/site-packages/sklearn/linear_model/logistic.py:432: FutureWarning: Default solver will be changed to 'lbfgs' in 0.22. Specify a solver to silence this warning.\n",
      "  FutureWarning)\n"
     ]
    }
   ],
   "source": [
    "import numpy as np\n",
    "import pandas as pd\n",
    "\n",
    "from sklearn.model_selection import train_test_split \n",
    "from sklearn.linear_model import LogisticRegression\n",
    "\n",
    "# 원본 데이터를 재로딩, 데이터 가공, 학습데이터/테스트 데이터 분할. \n",
    "df = pd.read_csv('./titanic_train.csv')\n",
    "y_df = df['Survived']\n",
    "X_df= df.drop('Survived', axis=1)\n",
    "X_df = transform_features(X_df)\n",
    "\n",
    "x_train, x_test, y_train, y_test = train_test_split(X_df, y_df, \\\n",
    "                                                    test_size=0.20, random_state=11)\n",
    "\n",
    "lr_clf = LogisticRegression()\n",
    "\n",
    "lr_clf.fit(x_train , y_train)\n",
    "pred = lr_clf.predict(x_test)\n",
    "print(f'type(pred) : {type(pred)},\\n pred[:3] : {pred[:3]}')\n",
    "print(f'type(y_test) : {type(y_test)},\\n y_test.value_counts() :\\n{y_test.value_counts()}')\n",
    "get_clf_eval(y_test , pred)"
   ]
  },
  {
   "cell_type": "markdown",
   "metadata": {},
   "source": [
    "\n",
    "## Trade Off "
   ]
  },
  {
   "cell_type": "code",
   "execution_count": 6,
   "metadata": {},
   "outputs": [
    {
     "name": "stdout",
     "output_type": "stream",
     "text": [
      "pred_proba()결과 Shape : (179, 2)\n",
      "pred_proba array에서 앞 3개만 샘플로 추출 \n",
      ": [[0.44935227 0.55064773]\n",
      " [0.86335512 0.13664488]\n",
      " [0.86429645 0.13570355]]\n",
      "두개의 class 중에서 더 큰 확률을 클래스 값으로 예측 \n",
      " [[0.44935227 0.55064773 1.        ]\n",
      " [0.86335512 0.13664488 0.        ]\n",
      " [0.86429645 0.13570355 0.        ]]\n"
     ]
    }
   ],
   "source": [
    "pred_proba = lr_clf.predict_proba(x_test) # ndarray m X n # n 2진분류의 0(negative), 1(positive)확률\n",
    "pred  = lr_clf.predict(x_test) # 0 or 1의 값을 취하는 것\n",
    "print('pred_proba()결과 Shape : {0}'.format(pred_proba.shape))\n",
    "print('pred_proba array에서 앞 3개만 샘플로 추출 \\n:', pred_proba[:3])\n",
    "\n",
    "# 예측 확률 array 와 예측 결과값 array 를 concatenate 하여 예측 확률과 결과값을 한눈에 확인\n",
    "pred_proba_result = np.concatenate([pred_proba , pred.reshape(-1,1)],axis=1)\n",
    "print('두개의 class 중에서 더 큰 확률을 클래스 값으로 예측 \\n',pred_proba_result[:3])\n"
   ]
  },
  {
   "cell_type": "code",
   "execution_count": 7,
   "metadata": {},
   "outputs": [
    {
     "name": "stdout",
     "output_type": "stream",
     "text": [
      "[[0. 0. 1.]\n",
      " [1. 0. 0.]\n",
      " [0. 0. 1.]]\n"
     ]
    }
   ],
   "source": [
    "from sklearn.preprocessing import Binarizer\n",
    "x = [[1, -1, 2],\n",
    "     [2, 0, 0],\n",
    "     [0, 1.1, 1.2]]\n",
    "binarizer = Binarizer(threshold=1.1)\n",
    "print(binarizer.fit_transform(x))"
   ]
  },
  {
   "cell_type": "code",
   "execution_count": 8,
   "metadata": {},
   "outputs": [
    {
     "name": "stdout",
     "output_type": "stream",
     "text": [
      "pred_proba[:3] : \n",
      "[[0.44935227 0.55064773]\n",
      " [0.86335512 0.13664488]\n",
      " [0.86429645 0.13570355]]\n",
      "pred_proba[:,1][:3] : \n",
      "[0.55064773 0.13664488 0.13570355]\n",
      "custom_predict[:3] :\n",
      "[[1.]\n",
      " [0.]\n",
      " [0.]]\n",
      "y_test[:3]: \n",
      "431    1\n",
      "821    1\n",
      "629    0\n",
      "Name: Survived, dtype: int64\n",
      "오차 행렬\n",
      "[[108  10]\n",
      " [ 14  47]]\n",
      "정확도: 0.8659, 정밀도: 0.8246, 재현율: 0.7705\n"
     ]
    }
   ],
   "source": [
    "from sklearn.preprocessing import Binarizer\n",
    "custom_threshold = 0.5\n",
    "print(f'pred_proba[:3] : \\n{pred_proba[:3]}') # negative, positive\n",
    "print(f'pred_proba[:,1][:3] : \\n{pred_proba[:,1][:3]}') # positive \n",
    "pred_proba_1 = pred_proba[:, 1].reshape(-1,1) #positive\n",
    "binarizer = Binarizer(threshold=custom_threshold).fit(pred_proba_1)\n",
    "custom_predict = binarizer.transform(pred_proba_1)\n",
    "print(f'custom_predict[:3] :\\n{custom_predict[:3]}')\n",
    "print(f'y_test[:3]: \\n{y_test[:3]}')\n",
    "\n",
    "get_clf_eval(y_test, custom_predict)"
   ]
  },
  {
   "cell_type": "code",
   "execution_count": 11,
   "metadata": {},
   "outputs": [
    {
     "name": "stdout",
     "output_type": "stream",
     "text": [
      "custom_threshold : 0.4\n",
      "오차 행렬\n",
      "[[97 21]\n",
      " [11 50]]\n",
      "정확도: 0.8212, 정밀도: 0.7042, 재현율: 0.8197\n",
      "custom_threshold : 0.45\n",
      "오차 행렬\n",
      "[[105  13]\n",
      " [ 13  48]]\n",
      "정확도: 0.8547, 정밀도: 0.7869, 재현율: 0.7869\n",
      "custom_threshold : 0.5\n",
      "오차 행렬\n",
      "[[108  10]\n",
      " [ 14  47]]\n",
      "정확도: 0.8659, 정밀도: 0.8246, 재현율: 0.7705\n",
      "custom_threshold : 0.55\n",
      "오차 행렬\n",
      "[[111   7]\n",
      " [ 16  45]]\n",
      "정확도: 0.8715, 정밀도: 0.8654, 재현율: 0.7377\n",
      "custom_threshold : 0.6\n",
      "오차 행렬\n",
      "[[113   5]\n",
      " [ 17  44]]\n",
      "정확도: 0.8771, 정밀도: 0.8980, 재현율: 0.7213\n"
     ]
    }
   ],
   "source": [
    "thresholds = [0.4,0.45,0.5,0.55,0.6]\n",
    "def get_eval_by_threshold(y_test, pred_proba_c1, thresholds):\n",
    "    for custom_threshold in thresholds:\n",
    "        binarizer = Binarizer(threshold=custom_threshold).fit(pred_proba_c1)\n",
    "        custom_predict=binarizer.transform(pred_proba_c1)\n",
    "        print(f'custom_threshold : {custom_threshold}')\n",
    "        get_clf_eval(y_test, custom_predict)\n",
    "get_eval_by_threshold(y_test, pred_proba[:, 1].reshape(-1,1), thresholds)"
   ]
  },
  {
   "cell_type": "code",
   "execution_count": 13,
   "metadata": {},
   "outputs": [
    {
     "name": "stdout",
     "output_type": "stream",
     "text": [
      "thresholds.shape : (147,)\n",
      "thr_index : [  0  15  30  45  60  75  90 105 120 135]\n",
      "np.round(thresholds[thr_index], 2) : \n",
      "[0.12 0.13 0.15 0.17 0.26 0.38 0.49 0.63 0.76 0.9 ]\n",
      "np.round(precisions[thr_index], 3) : \n",
      "[0.379 0.424 0.455 0.519 0.618 0.676 0.797 0.93  0.964 1.   ]\n",
      "np.round(recalls[thr_index], 3) : \n",
      "[1.    0.967 0.902 0.902 0.902 0.82  0.77  0.656 0.443 0.213]\n"
     ]
    }
   ],
   "source": [
    "from sklearn.metrics import precision_recall_curve\n",
    "\n",
    "pred_proba_class1 = lr_clf.predict_proba(x_test)[:, 1] #positive\n",
    "\n",
    "precisions, recalls, thresholds = precision_recall_curve(y_test, pred_proba_class1)\n",
    "print(f'thresholds.shape : {thresholds.shape}')\n",
    "\n",
    "thr_index = np.arange(0, thresholds.shape[0], 15)\n",
    "print(f'thr_index : {thr_index}')\n",
    "print(f'np.round(thresholds[thr_index], 2) : \\n{np.round(thresholds[thr_index], 2)}')\n",
    "print(f'np.round(precisions[thr_index], 3) : \\n{np.round(precisions[thr_index], 3)}')\n",
    "print(f'np.round(recalls[thr_index], 3) : \\n{np.round(recalls[thr_index], 3)}')\n"
   ]
  },
  {
   "cell_type": "code",
   "execution_count": 14,
   "metadata": {},
   "outputs": [
    {
     "data": {
      "image/png": "[encoded data removed]",
      "text/plain": [
       "<Figure size 576x432 with 1 Axes>"
      ]
     },
     "metadata": {
      "needs_background": "light"
     },
     "output_type": "display_data"
    }
   ],
   "source": [
    "import matplotlib.pyplot as plt\n",
    "import matplotlib.ticker as ticker\n",
    "%matplotlib inline\n",
    "\n",
    "def precision_recall_curve_plot(y_test, pred_proba_c1):\n",
    "    precisions, recalls, thresholds = precision_recall_curve(y_test, pred_proba_c1)\n",
    "    \n",
    "    plt.figure(figsize=(8,6))\n",
    "    threshold_boundary = thresholds.shape[0]\n",
    "    plt.plot(thresholds, precisions[0:threshold_boundary], linestyle='--', label='precision')\n",
    "    plt.plot(thresholds, recalls[0:threshold_boundary], label='recall')\n",
    "    \n",
    "    start, end = plt.xlim()\n",
    "    plt.xticks(np.round(np.arange(start, end, 0.1), 2))\n",
    "    \n",
    "    plt.xlabel('Threshold valud');plt.ylabel('Precision and Recall value')\n",
    "    plt.legend();plt.grid()\n",
    "    plt.show()\n",
    "    \n",
    "precision_recall_curve_plot(y_test, lr_clf.predict_proba(x_test)[:,1])\n",
    "\n",
    "    "
   ]
  },
  {
   "cell_type": "markdown",
   "metadata": {},
   "source": [
    "\n",
    "## F1 score (precision + recall)"
   ]
  },
  {
   "cell_type": "code",
   "execution_count": 17,
   "metadata": {},
   "outputs": [
    {
     "name": "stdout",
     "output_type": "stream",
     "text": [
      "f1 : 0.7966\n"
     ]
    }
   ],
   "source": [
    "from sklearn.metrics import f1_score\n",
    "\n",
    "f1 = f1_score(y_test, pred)\n",
    "print(f'f1 : {f1:.4f}')"
   ]
  },
  {
   "cell_type": "code",
   "execution_count": 18,
   "metadata": {},
   "outputs": [
    {
     "name": "stdout",
     "output_type": "stream",
     "text": [
      "custom_threshold : 0.4\n",
      "오차 행렬\n",
      "[[97 21]\n",
      " [11 50]]\n",
      "정확도: 0.8212, 정밀도: 0.7042, 재현율: 0.8197, F1 : 0.7576\n",
      "custom_threshold : 0.45\n",
      "오차 행렬\n",
      "[[105  13]\n",
      " [ 13  48]]\n",
      "정확도: 0.8547, 정밀도: 0.7869, 재현율: 0.7869, F1 : 0.7869\n",
      "custom_threshold : 0.5\n",
      "오차 행렬\n",
      "[[108  10]\n",
      " [ 14  47]]\n",
      "정확도: 0.8659, 정밀도: 0.8246, 재현율: 0.7705, F1 : 0.7966\n",
      "custom_threshold : 0.55\n",
      "오차 행렬\n",
      "[[111   7]\n",
      " [ 16  45]]\n",
      "정확도: 0.8715, 정밀도: 0.8654, 재현율: 0.7377, F1 : 0.7965\n",
      "custom_threshold : 0.6\n",
      "오차 행렬\n",
      "[[113   5]\n",
      " [ 17  44]]\n",
      "정확도: 0.8771, 정밀도: 0.8980, 재현율: 0.7213, F1 : 0.8000\n"
     ]
    }
   ],
   "source": [
    "def get_clf_eval(y_test , pred):\n",
    "    confusion = confusion_matrix( y_test, pred)\n",
    "    accuracy = accuracy_score(y_test , pred)\n",
    "    precision = precision_score(y_test , pred)\n",
    "    recall = recall_score(y_test , pred)\n",
    "    f1 = f1_score(y_test, pred)\n",
    "    print('오차 행렬')\n",
    "    print(confusion)\n",
    "    print('정확도: {0:.4f}, 정밀도: {1:.4f}, 재현율: {2:.4f}, F1 : {3:.4f}'.format(accuracy , precision ,recall,f1))\n",
    "    \n",
    "thresholds = [0.4,0.45,0.5,0.55,0.6]\n",
    "pred_proba = lr_clf.predict_proba(x_test)\n",
    "get_eval_by_threshold(y_test, pred_proba[:, 1].reshape(-1,1), thresholds)"
   ]
  },
  {
   "cell_type": "markdown",
   "metadata": {},
   "source": [
    "\n",
    "## ROC(Receiver Operation Characteristic Curve : 수신자판단) 곡선과 AUC\n",
    "### FPR -  TPR(재현율,민감도) 곡선   cf) TNR(특이성)"
   ]
  },
  {
   "cell_type": "code",
   "execution_count": 20,
   "metadata": {},
   "outputs": [
    {
     "name": "stdout",
     "output_type": "stream",
     "text": [
      "샘플 추출을 위한 임곗값 배열의 index 10개: [ 0  5 10 15 20 25 30 35 40 45]\n",
      "샘플용 10개의 임곗값:  [1.94 0.87 0.63 0.55 0.44 0.32 0.15 0.14 0.13 0.12]\n",
      "샘플 임곗값별 FPR:  [0.    0.008 0.025 0.059 0.127 0.203 0.559 0.602 0.695 0.847]\n",
      "샘플 임곗값별 TPR:  [0.    0.246 0.672 0.738 0.787 0.885 0.902 0.951 0.967 0.984]\n"
     ]
    }
   ],
   "source": [
    "from sklearn.metrics import roc_curve\n",
    "\n",
    "# 레이블 값이 1일때의 예측 확률을 추출 \n",
    "pred_proba_class1 = lr_clf.predict_proba(x_test)[:, 1] \n",
    "\n",
    "fprs , tprs , thresholds = roc_curve(y_test, pred_proba_class1)\n",
    "# 반환된 임곗값 배열 로우가 47건이므로 샘플로 10건만 추출하되, 임곗값을 5 Step으로 추출. \n",
    "thr_index = np.arange(0, thresholds.shape[0], 5)\n",
    "print('샘플 추출을 위한 임곗값 배열의 index 10개:', thr_index)\n",
    "print('샘플용 10개의 임곗값: ', np.round(thresholds[thr_index], 2))\n",
    "\n",
    "# 5 step 단위로 추출된 임계값에 따른 FPR, TPR 값\n",
    "print('샘플 임곗값별 FPR: ', np.round(fprs[thr_index], 3))\n",
    "print('샘플 임곗값별 TPR: ', np.round(tprs[thr_index], 3))"
   ]
  },
  {
   "cell_type": "code",
   "execution_count": 21,
   "metadata": {},
   "outputs": [
    {
     "data": {
      "image/png": "[encoded data removed]",
      "text/plain": [
       "<Figure size 432x288 with 1 Axes>"
      ]
     },
     "metadata": {
      "needs_background": "light"
     },
     "output_type": "display_data"
    }
   ],
   "source": [
    "def roc_curve_plot(y_test , pred_proba_c1):\n",
    "    # 임곗값에 따른 FPR, TPR 값을 반환 받음. \n",
    "    fprs , tprs , thresholds = roc_curve(y_test ,pred_proba_c1)\n",
    "\n",
    "    # ROC Curve를 plot 곡선으로 그림. \n",
    "    plt.plot(fprs , tprs, label='ROC')\n",
    "    # 가운데 대각선 직선을 그림. \n",
    "    plt.plot([0, 1], [0, 1], 'k--', label='Random')\n",
    "    \n",
    "    # FPR X 축의 Scale을 0.1 단위로 변경, X,Y 축명 설정등   \n",
    "    start, end = plt.xlim()\n",
    "    plt.xticks(np.round(np.arange(start, end, 0.1),2))\n",
    "    plt.xlim(0,1); plt.ylim(0,1)\n",
    "    plt.xlabel('FPR( 1 - Sensitivity )'); plt.ylabel('TPR( Recall )')\n",
    "    plt.legend()\n",
    "    plt.show()\n",
    "    \n",
    "roc_curve_plot(y_test, lr_clf.predict_proba(x_test)[:, 1] )"
   ]
  },
  {
   "cell_type": "code",
   "execution_count": 22,
   "metadata": {},
   "outputs": [
    {
     "name": "stdout",
     "output_type": "stream",
     "text": [
      "ROC AUC 값: 0.8429\n"
     ]
    }
   ],
   "source": [
    "from sklearn.metrics import roc_auc_score\n",
    "\n",
    "pred = lr_clf.predict(x_test)\n",
    "roc_score = roc_auc_score(y_test, pred)\n",
    "print('ROC AUC 값: {0:.4f}'.format(roc_score))"
   ]
  },
  {
   "cell_type": "code",
   "execution_count": 23,
   "metadata": {},
   "outputs": [],
   "source": [
    "def get_clf_eval(y_test , pred):\n",
    "    confusion = confusion_matrix( y_test, pred)\n",
    "    accuracy = accuracy_score(y_test , pred)\n",
    "    precision = precision_score(y_test , pred)\n",
    "    recall = recall_score(y_test , pred)\n",
    "    f1 = f1_score(y_test,pred)\n",
    "    # ROC-AUC 추가 \n",
    "    roc_auc = roc_auc_score(y_test, pred)\n",
    "    print('오차 행렬')\n",
    "    print(confusion)\n",
    "    # ROC-AUC print 추가\n",
    "    print('정확도: {0:.4f}, 정밀도: {1:.4f}, 재현율: {2:.4f},\\\n",
    "    F1: {3:.4f}, AUC:{4:.4f}'.format(accuracy, precision, recall, f1, roc_auc))"
   ]
  },
  {
   "cell_type": "code",
   "execution_count": null,
   "metadata": {},
   "outputs": [],
   "source": []
  }
 ],
 "metadata": {
  "kernelspec": {
   "display_name": "Python 3",
   "language": "python",
   "name": "python3"
  },
  "language_info": {
   "codemirror_mode": {
    "name": "ipython",
    "version": 3
   },
   "file_extension": ".py",
   "mimetype": "text/x-python",
   "name": "python",
   "nbconvert_exporter": "python",
   "pygments_lexer": "ipython3",
   "version": "3.7.3"
  }
 },
 "nbformat": 4,
 "nbformat_minor": 2
}
