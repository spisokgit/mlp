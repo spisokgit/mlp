{
 "cells": [
  {
   "cell_type": "code",
   "execution_count": null,
   "metadata": {},
   "outputs": [],
   "source": [
    "#### crawl_ratings.py\n",
    "# ctrl F 단어블록 ctrl c ctrl v \n",
    "# https://github.com/e9t/nsmc/blob/master/code/crawl_ratings.py"
   ]
  },
  {
   "cell_type": "code",
   "execution_count": 1,
   "metadata": {},
   "outputs": [
    {
     "name": "stderr",
     "output_type": "stream",
     "text": [
      "\n",
      "Bad key \"axes_unicode_minus\" on line 3 in\n",
      "/home/jovyan/.config/matplotlib/matplotlibrc.\n",
      "You probably need to get an updated matplotlibrc file from\n",
      "http://github.com/matplotlib/matplotlib/blob/master/matplotlibrc.template\n",
      "or from the matplotlib source distribution\n"
     ]
    }
   ],
   "source": [
    "#! /usr/bin/python3\n",
    "# -*- coding: utf-8 -*-\n",
    "\n",
    "\n",
    "from collections import defaultdict\n",
    "from glob import glob\n",
    "import os\n",
    "import re\n",
    "import time\n",
    "\n",
    "from lxml import html\n",
    "import numpy as np\n",
    "import pandas as pd\n",
    "import requests\n",
    "\n",
    "import utils\n",
    "import json\n",
    "\n",
    "\n",
    "BASEURL     = 'http://movie.naver.com/movie/point/af/list.nhn'\n",
    "RATINGURL   = BASEURL + '?&page=%s' # 평점\n",
    "MOVIEURL    = BASEURL + '?st=mcode&target=after&sword=%s&page=%s' # %s 129406 미쓰 와이프 \n",
    "                       # ?st=mcode&sword=181287&target=after\n",
    "DATADIR     = 'data/ratings'\n",
    "INDEXFILE   = 'index.txt' # 찾고자 하는 영화이름\n",
    "TMPFILE     = 'data/ratings_all.txt'\n",
    "RATINGSFILE = 'data/ratings.txt'\n",
    "SEED        = 1234\n",
    "SLEEP       = 600\n",
    "NDOCS       = 200000\n",
    "\n",
    "\n",
    "extract_nums = lambda s: re.search('\\d+', s).group(0)\n",
    "sanitize_str = lambda s: s.strip()"
   ]
  },
  {
   "cell_type": "code",
   "execution_count": 13,
   "metadata": {},
   "outputs": [],
   "source": [
    "def parse_item(item): #item은 tr 1ea를 이루고 있는 list\n",
    "#     for idx, it in enumerate(item):\n",
    "#         print(f'item 출력 {idx} : {it}') # td elements 3ea \n",
    "    #import pdb; pdb.set_trace()\n",
    "    try:\n",
    "        return {\n",
    "                'review_id': item.xpath('./td[@class=\"ac num\"]/text()')[0],\n",
    "                #'rating': item.xpath('./td[@class=\"title\"]/text()')[0],    # 여자코딩 \n",
    "                'rating': item.xpath('./td[@class=\"title\"]/div/em/text()')[0],\n",
    "                'movie_id': extract_nums(item.xpath('./td[@class=\"title\"]/a/@href')[0]),\n",
    "                'movie_name': sanitize_str(' '.join(item.xpath('./td[@class=\"title\"]/a/text()'))), # xpath는list => 1줄 str => 공백제건\n",
    "                'review': sanitize_str(' '.join(item.xpath('./td[@class=\"title\"]/text()'))), # xpath는list => 1줄 str => 공백제건\n",
    "                'author': item.xpath('./td[@class=\"num\"]/a/text()')[0],\n",
    "                'date': item.xpath('./td[@class=\"num\"]/text()')[0]\n",
    "        }\n",
    "    except (IndexError, AttributeError) as e:\n",
    "        print(e, item.xpath('.//text()'))\n",
    "        # ['\\n\\t\\t', '16711283', '\\n\\t\\t\\t', '\\n\\t\\t\\t\\n\\t\\t\\t\\n\\t\\t\\t\\n\\t\\t\\t\\t', '미쓰 와이프', '\\n\\t\\t\\t\\n\\t\\t\\t\\n\\t\\t\\t', '\\n\\t\\t\\t\\t', '별점 - 총 10점 중', '8', '\\n\\t\\t\\t', '\\n\\t\\t\\t', '9살 딸이랑 울면서 봤어요 역시 눈물의 포인트는 달랐지만 재밌게봤어요^^ \\n\\t\\t\\t\\n\\t\\t\\t\\n\\t\\t\\t\\n\\t\\t\\t\\t\\n\\t\\t\\t\\t\\n\\t\\t\\t\\t\\n\\t\\t\\t\\t', '신고', '\\n\\t\\t\\t\\n\\t\\t\\t\\n\\t\\t\\t', '\\n\\t\\t', 'youn****', '20.02.14', '\\n\\t']\n",
    "        return None\n",
    "    except (AssertionError) as e:\n",
    "        print(e, 'Sleep for %s' % SLEEP)\n",
    "        time.sleep(SLEEP)\n",
    "    except Exception as e:\n",
    "        print(e, '음 여기까진 생각을 못했는데...')\n",
    "\n",
    "def crawl_rating_page(url):\n",
    "    resp = requests.get(url)\n",
    "    root = html.fromstring(resp.text)\n",
    "    \n",
    "    # 한 page당 tr 10ea인 list정보 => items\n",
    "    items = root.xpath('//body//table[@class=\"list_netizen\"]//tr')[1:]\n",
    "    #print(items)\n",
    "    \n",
    "    # 최대 페이지 넘버 찾기\n",
    "    npages = max(map(int, ([0] + root.xpath('//div[@class=\"paging\"]//a/span/text()'))))\n",
    "    #print(npages)\n",
    "    \n",
    "    #return items[0]  # items[0] => tr 1ea(감상평 1ea) 이루고 있는 list\n",
    "    return list(filter(None, [parse_item(item) for item in items])), npages    \n",
    "    \n",
    "# 테스트 =============> #return items[0] 활성화시키면 됨\n",
    "#url='http://movie.naver.com/movie/point/af/list.nhn'+\\\n",
    "    '?st=mcode&target=after&sword=%s&page=%s' % (129406, 1)\n",
    "#item=crawl_rating_page(url)\n",
    "#parse_item(item)"
   ]
  },
  {
   "cell_type": "code",
   "execution_count": 14,
   "metadata": {},
   "outputs": [
    {
     "name": "stdout",
     "output_type": "stream",
     "text": [
      "[{'review_id': '16718346', 'rating': '10', 'movie_id': '187324', 'movie_name': '극장판 원피스 스탬피드 신고', 'review': '', 'author': 'rbwj****', 'date': '20.02.16'}]\n"
     ]
    }
   ],
   "source": [
    "def crawl_movie(movie_id):\n",
    "    review_data = []\n",
    "    negative_cnt = 0\n",
    "    positive_cnt = 0\n",
    "    for page_num in range(50):  \n",
    "        url = MOVIEURL % (movie_id, page_num + 1) # %s 인자에 값 주기 ==> %s 129406 (미쓰 와이프) %s 1\n",
    "        #print(url) # http://movie.naver.com/movie/point/af/list.nhn?st=mcode&target=after&sword=129406&page=1\n",
    "        page_items, npages = crawl_rating_page(url) # page_items 최대 10ea [{},,,  ] 리턴됨\n",
    "        #print(f'npages:{npages}') # page 10지나면 다른 npages가 나옴\n",
    "        \n",
    "        # 감상평중 긍정평가 count\n",
    "        positive_cnt +=len([ int(page_item['rating']) for page_item in page_items if int(page_item['rating']) > 8 ])\n",
    "        # 감상평중 부정평가 count\n",
    "        negative_cnt +=len([ int(page_item['rating']) for page_item in page_items if int(page_item['rating']) < 5 ])\n",
    "        review_data.extend(page_items) # append object 추가 [1,2,3,[4,5]], extend element 추가 [1,2,3,4,5]\n",
    "        #print(review_data)\n",
    "        \n",
    "        if len(review_data)==0:\n",
    "            return  review_data, negative_cnt, positive_cnt\n",
    "        if page_num >= npages - 1:\n",
    "            break\n",
    "    # 테스트\n",
    "    #return review_data, positive_cnt, negative_cnt\n",
    "\n",
    "    # 감상평 있으면 JSON 저장\n",
    "    if review_data:\n",
    "        #utils.write_json(items, '%s/%s.json' % (DATADIR, movie_id))\n",
    "        with open( '%s/%s.json' % (DATADIR, movie_id), 'w', encoding='UTF-8-sig') as json_file: # DATADIR => data/ratings #encoding='UTF-8-sig'없어도 한글깨짐 없음\n",
    "            json_file.write(json.dumps(review_data, ensure_ascii=False)) #한글깨짐관련 \n",
    "        return review_data, positive_cnt, negative_cnt\n",
    "        # data/ratings 디렉토리에 대한 permission denied => sudo chmod 777 ratings\n",
    "    else:\n",
    "        return []\n",
    "    \n",
    "#테스트\n",
    "#movie_id='187324'\n",
    "#review_data, positive_cnt, negative_cnt=crawl_movie(movie_id)\n",
    "# print(f'positive_cnt:{positive_cnt}')\n",
    "# print(f'negative_cnt:{negative_cnt}') # 부정평가 감상평이 극히 적다\n",
    "# print(f'len(review_data[0:10] : {len(review_data[0:10])}')\n",
    "#print(review_data[0:1])\n"
   ]
  },
  {
   "cell_type": "code",
   "execution_count": 4,
   "metadata": {},
   "outputs": [],
   "source": [
    "def get_index(filename): # INDEXFILE ='index.txt'\n",
    "    if os.path.exists(filename):\n",
    "        # movie_id, total = map(int, utils.read_txt(filename).split('\\n')[0].split(','))\n",
    "        with open(filename, 'r') as f:\n",
    "            movie_id, total, negative_cnt_t = map(int,f.read().split('\\n')[0].split(','))\n",
    "        \n",
    "        # read() 전체, readline() 한줄 str # readlines() 전체 list # split() list\n",
    "    else:\n",
    "        movie_id, total, negative_cnt_t = 190325, 0, 0 # 129406 미쓰 와이프 # 174294 성혜의 나라 # 190325 공룡왕 디노\n",
    "    print(movie_id, total,negative_cnt_t)\n",
    "    return [movie_id, total, negative_cnt_t]  # [129406,0,0]"
   ]
  },
  {
   "cell_type": "code",
   "execution_count": 5,
   "metadata": {},
   "outputs": [],
   "source": [
    "def put_index(movie_id, total, filename): #  filename => INDEXFILE ='index.txt'\n",
    "    #utils.write_txt('%s,%s' % (movie_id, total), filename)\n",
    "    with open(filename, 'w') as f:\n",
    "        f.write('%s,%s,%s' % (movie_id, total, negative_cnt_t))\n",
    "        \n",
    "# 테스트        \n",
    "# movie_id=129406\n",
    "# total = 100\n",
    "# put_index(movie_id, total, INDEXFILE) #  filename => INDEXFILE ='index.txt'"
   ]
  },
  {
   "cell_type": "code",
   "execution_count": 15,
   "metadata": {
    "scrolled": true
   },
   "outputs": [
    {
     "data": {
      "text/plain": [
       "[{'review_id': '16078107',\n",
       "  'rating': '4',\n",
       "  'movie_id': '186644',\n",
       "  'movie_name': '데스 키스 신고',\n",
       "  'review': '우와!!  찰스브론슨 인줄 알았다!',\n",
       "  'author': 'soul****',\n",
       "  'date': '19.08.23'}]"
      ]
     },
     "execution_count": 15,
     "metadata": {},
     "output_type": "execute_result"
    }
   ],
   "source": [
    "def read_json(filename):\n",
    "    with open(filename, 'r', encoding='UTF-8-sig') as json_file:\n",
    "        readjson = json.load(json_file) # loads\n",
    "    return readjson\n",
    "# 테스트\n",
    "# filename = 'data/ratings/186644.json'\n",
    "# read_json(filename)"
   ]
  },
  {
   "cell_type": "code",
   "execution_count": 18,
   "metadata": {},
   "outputs": [
    {
     "name": "stdout",
     "output_type": "stream",
     "text": [
      "185933 19322 4511\n",
      "Ratings merged to data/ratings_all.txt\n",
      "Ratings written to data/ratings.txt\n"
     ]
    }
   ],
   "source": [
    "       \n",
    "def merge_ratings():\n",
    "\n",
    "    def balance_classes(df, ndocs_per_class): # ndocs_per_class 100000\n",
    "        df_pos = df[df['label']==1][:int(ndocs_per_class)]\n",
    "        df_neg = df[df['label']==0][:int(ndocs_per_class)]\n",
    "        return df_pos.append(df_neg)\n",
    "\n",
    "\n",
    "    sub_space = lambda s: re.sub('\\s+', ' ', s)\n",
    "    write_row = lambda l, f: f.write('\\t'.join(l) + '\\n') # l literable\n",
    "\n",
    "    filenames = glob('%s/*' % DATADIR) # DATADIR     = 'data/ratings'\n",
    "    with open(TMPFILE, 'w') as f: # TMPFILE     = 'data/ratings_all.txt'\n",
    "        write_row('id document label'.split(), f)\n",
    "        for filename in filenames:\n",
    "            readjson = read_json(filename)\n",
    "            for review in readjson:\n",
    "                rating = int(review['rating'])\n",
    "                if rating > 8:      # positive 9 10\n",
    "                    write_row([review['review_id'], sub_space(review['review']), '1'], f)\n",
    "                elif rating < 5:    # negative 1 2 3 4\n",
    "                    write_row([review['review_id'], sub_space(review['review']), '0'], f)\n",
    "                else:               # neutral\n",
    "                    pass\n",
    "    print('Ratings merged to %s' % TMPFILE)\n",
    "\n",
    "    \n",
    "    df = pd.read_csv(TMPFILE, sep='\\t', quoting=3) # TMPFILE     = 'data/ratings_all.txt' \n",
    "    # if delimiter=None: delimiter=sep,     quoting = 3은 큰따옴표를 무시하도록 한다. header=0 파일의 첫 번째 줄에 열 이름이 있음을 나타내며\n",
    "    df = df.fillna('')\n",
    "    # 무작위 표본 추출 긍정평가 100000, 부정평가 100000\n",
    "    np.random.seed(SEED)\n",
    "    df = df.iloc[np.random.permutation(len(df))]\n",
    "    df = balance_classes(df, NDOCS/2) # NDOCS       = 200000\n",
    "    \n",
    "    # df -> csv\n",
    "    df.to_csv(RATINGSFILE, sep='\\t', index=False)  # RATINGSFILE = 'data/ratings.txt'\n",
    "    print('Ratings written to %s' % RATINGSFILE)\n",
    "    \n",
    "if __name__=='__main__':\n",
    "    movie_id, total, negative_cnt_t = get_index(INDEXFILE)\n",
    "    while negative_cnt_t < 4250 and movie_id > 0: # movie_id 129406 미쓰 와이프 # 174294\n",
    "        review_data, positive_cnt, negative_cnt=crawl_movie(movie_id)\n",
    "        total += len(review_data)\n",
    "        negative_cnt_t += negative_cnt\n",
    "        put_index(movie_id, total, INDEXFILE)\n",
    "        print(f'{MOVIEURL % (movie_id, 1)} {len(review_data)} {total} 부정합계:{negative_cnt_t}')\n",
    "        #MOVIEURL    = BASEURL + '?st=mcode&target=after&sword=%s&page=%s' # %s 129406 미쓰 와이프 \n",
    "        movie_id -= 1\n",
    "    merge_ratings()"
   ]
  },
  {
   "cell_type": "code",
   "execution_count": 19,
   "metadata": {},
   "outputs": [
    {
     "name": "stdout",
     "output_type": "stream",
     "text": [
      "/home/jovyan/work/ml-definitive-guide/8장\r\n"
     ]
    }
   ],
   "source": [
    "!pwd"
   ]
  },
  {
   "cell_type": "code",
   "execution_count": null,
   "metadata": {},
   "outputs": [],
   "source": [
    "#### partition (train, test)"
   ]
  },
  {
   "cell_type": "code",
   "execution_count": 21,
   "metadata": {},
   "outputs": [],
   "source": [
    "#! /usr/bin/python\n",
    "# -*- coding: utf-8 -*-\n",
    "\n",
    "import numpy as np; np.random.seed(1234)\n",
    "import pandas as pd\n",
    "\n",
    "\n",
    "ntrain = 150000\n",
    "\n",
    "data = pd.read_csv('./data/ratings.txt', sep='\\t', quoting=3)\n",
    "data = pd.DataFrame(np.random.permutation(data))\n",
    "trn, tst = data[:ntrain], data[ntrain:]\n",
    "\n",
    "header = 'id document label'.split()\n",
    "trn.to_csv('./data/ratings_train.txt', sep='\\t', index=False, header=header)\n",
    "tst.to_csv('./data/ratings_test.txt', sep='\\t', index=False, header=header)"
   ]
  },
  {
   "cell_type": "code",
   "execution_count": null,
   "metadata": {},
   "outputs": [],
   "source": []
  }
 ],
 "metadata": {
  "kernelspec": {
   "display_name": "Python 3",
   "language": "python",
   "name": "python3"
  },
  "language_info": {
   "codemirror_mode": {
    "name": "ipython",
    "version": 3
   },
   "file_extension": ".py",
   "mimetype": "text/x-python",
   "name": "python",
   "nbconvert_exporter": "python",
   "pygments_lexer": "ipython3",
   "version": "3.7.3"
  }
 },
 "nbformat": 4,
 "nbformat_minor": 2
}
