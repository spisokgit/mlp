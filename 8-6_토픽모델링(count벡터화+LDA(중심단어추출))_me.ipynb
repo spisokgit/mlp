{
 "cells": [
  {
   "cell_type": "markdown",
   "metadata": {},
   "source": [
    "## 토픽모델링 : 문서집합의 주제 찾기\n",
    "* 사람은 문장을 요약하는 것에 비해, ML은 주제를 효과적 표현하는 중심단어 추출\n",
    "* LSA(Latent Semantic Analysis), LDA(Latent Dirichlet Allocation)\n",
    " cf) 차원축소의 LDA(Linear Discriminant Analysis) 다름\n",
    "* 20뉴스그룹 데이터 사용 -> count기반 벡터화(fit_transform) -> lda.fit =>\n",
    "  - components_속성 (개별 토픽별 각 word 피처가 얼마나 많이 그 토픽에 할당됐는지에 대한 수치)\n",
    "* cf) 8-3 CountVectorizer() 피처벡터화에서는  \n",
    "    - 테스트데이터의 피처벡터화는 학습데이터를 이용해 fit()이 수행된 CountVectorizer객체를 이용해 테스트데이터를 변환(transform)해야 함\n",
    "      ==> 학습시 설정된 CountVectorizer의 피처개수와 테스트데이터를 CountVectorizer로 변환할 피처개수가 같아짐\n",
    "    - fit_transform()사용치 못함. cnt_vect.transform() 이용해 변환\n",
    "      ==> 테스트 데이터기반으로 다시 CountVectorizer가 fit()수행하고 transform() 하기 때문에 \n",
    "          학습시 사용된 피처개수와 예측시 사용할 피처개수가 달라짐"
   ]
  },
  {
   "cell_type": "code",
   "execution_count": 1,
   "metadata": {},
   "outputs": [],
   "source": [
    "from sklearn.datasets import fetch_20newsgroups\n",
    "from sklearn.feature_extraction.text import CountVectorizer\n",
    "from sklearn.decomposition import LatentDirichletAllocation\n",
    "\n",
    "# 모토사이클, 야구, 그래픽스, 윈도우즈, 중동, 기독교, 의학, 우주 주제를 추출. \n",
    "cats = ['rec.motorcycles', 'rec.sport.baseball', 'comp.graphics', 'comp.windows.x',\n",
    "        'talk.politics.mideast', 'soc.religion.christian', 'sci.electronics', 'sci.med'  ]\n",
    "\n",
    "# 위에서 cats 변수로 기재된 category만 추출. featch_20newsgroups( )의 categories에 cats 입력\n",
    "news_df= fetch_20newsgroups(subset='all',remove=('headers', 'footers', 'quotes'), \n",
    "                            categories=cats, random_state=0)"
   ]
  },
  {
   "cell_type": "code",
   "execution_count": 2,
   "metadata": {},
   "outputs": [
    {
     "name": "stdout",
     "output_type": "stream",
     "text": [
      "<class 'sklearn.utils.Bunch'>\n",
      "dict_keys(['data', 'filenames', 'target_names', 'target', 'DESCR'])\n",
      "\n",
      "7862\n",
      "I appreciate if anyone can point out some good books about the dead sea\n",
      "scrolls of Qumran. Thanks in advance.\n",
      "['/home/jovyan/scikit_learn_data/20news_home/20news-bydate-train/soc.religion.christian/20630'\n",
      " '/home/jovyan/scikit_learn_data/20news_home/20news-bydate-test/sci.med/59422'\n",
      " '/home/jovyan/scikit_learn_data/20news_home/20news-bydate-test/comp.graphics/38765'\n",
      " ...\n",
      " '/home/jovyan/scikit_learn_data/20news_home/20news-bydate-train/rec.sport.baseball/102656'\n",
      " '/home/jovyan/scikit_learn_data/20news_home/20news-bydate-train/sci.electronics/53606'\n",
      " '/home/jovyan/scikit_learn_data/20news_home/20news-bydate-train/talk.politics.mideast/76505']\n",
      "['comp.graphics', 'comp.windows.x', 'rec.motorcycles', 'rec.sport.baseball', 'sci.electronics', 'sci.med', 'soc.religion.christian', 'talk.politics.mideast']\n",
      "8\n",
      "[6 5 0 ... 3 4 7]\n",
      "7862\n"
     ]
    }
   ],
   "source": [
    "print(f'{type(news_df)}')\n",
    "# news_df => 데이터의 형태가 dictionary\n",
    "# print(news_df.shape)  => error\n",
    "print(f'{news_df.keys()}\\n')\n",
    "\n",
    "print(len(news_df.data)) # 7862   # dict key가 data이므로 value가 list => news_df.data => list [ , , , ]\n",
    "print(news_df.data[0])\n",
    "\n",
    "print(news_df.filenames) # 8\n",
    "\n",
    "print(news_df.target_names)\n",
    "print(len(news_df.target_names)) # 8\n",
    "\n",
    "print(news_df.target)\n",
    "print(len(news_df.target)) # 7862\n"
   ]
  },
  {
   "cell_type": "code",
   "execution_count": null,
   "metadata": {
    "scrolled": true
   },
   "outputs": [],
   "source": [
    "# import pandas as pd\n",
    "# df = pd.DataFrame(news_df), index=news_df.data. columns=news_df.target_names) # ===> error keys들이 column으로 가기때문에\n",
    "# df.head()"
   ]
  },
  {
   "cell_type": "code",
   "execution_count": 3,
   "metadata": {},
   "outputs": [],
   "source": [
    "#LDA 는 Count기반의 Vectorizer만 적용합니다.  \n",
    "count_vect = CountVectorizer(max_df=0.95, max_features=1000, min_df=2, stop_words='english', ngram_range=(1,2))\n",
    "feat_vect = count_vect.fit_transform(news_df.data)"
   ]
  },
  {
   "cell_type": "code",
   "execution_count": 4,
   "metadata": {},
   "outputs": [
    {
     "name": "stdout",
     "output_type": "stream",
     "text": [
      "type(count_vect):<class 'sklearn.feature_extraction.text.CountVectorizer'>\n",
      "CountVectorizer Shape(feat_vect.shape): (7862, 1000)\n"
     ]
    }
   ],
   "source": [
    "# print(f'{news_df.data.shape}') # error => 'list' object has no attribute 'shape'\n",
    "print(f'type(count_vect):{type(count_vect)}') # count.vect.shape => error\n",
    "print('CountVectorizer Shape(feat_vect.shape):', feat_vect.shape) # 추출된 feature가 1000개 (7862,1000) => sparse matrix(희소행렬)\n"
   ]
  },
  {
   "cell_type": "code",
   "execution_count": 9,
   "metadata": {},
   "outputs": [
    {
     "name": "stdout",
     "output_type": "stream",
     "text": [
      "type(feat_vect):<class 'scipy.sparse.csr.csr_matrix'>\n",
      "  (0, 93)\t1\n",
      "  (0, 669)\t1\n",
      "  (0, 390)\t1\n",
      "  (0, 148)\t1\n",
      "  (0, 251)\t1\n",
      "  (0, 876)\t1\n",
      "  (0, 70)\t1\n",
      "  (0, 877)\t1\n",
      "  (1, 390)\t1\n",
      "  (1, 428)\t1\n",
      "  (1, 391)\t1\n",
      "  (1, 237)\t1\n",
      "  (1, 607)\t1\n",
      "  (1, 403)\t1\n",
      "  (1, 955)\t2\n",
      "  (1, 512)\t2\n",
      "  (1, 678)\t2\n",
      "  (1, 655)\t2\n",
      "  (1, 881)\t2\n",
      "  (1, 733)\t1\n",
      "  (1, 688)\t1\n",
      "  (1, 23)\t1\n",
      "  (1, 894)\t1\n",
      "  (1, 15)\t1\n",
      "  (1, 12)\t1\n",
      "  :\t:\n",
      "  (1, 431)\t1\n",
      "  (1, 563)\t1\n",
      "  (1, 748)\t1\n",
      "  (1, 200)\t1\n",
      "  (1, 975)\t1\n",
      "  (1, 995)\t1\n",
      "  (1, 915)\t1\n",
      "  (1, 650)\t1\n",
      "  (1, 222)\t1\n",
      "  (1, 332)\t1\n",
      "  (1, 510)\t1\n",
      "  (1, 656)\t1\n",
      "  (1, 930)\t1\n",
      "  (1, 162)\t1\n",
      "  (1, 120)\t1\n",
      "  (1, 713)\t1\n",
      "  (1, 407)\t1\n",
      "  (1, 853)\t1\n",
      "  (1, 712)\t1\n",
      "  (1, 210)\t1\n",
      "  (1, 350)\t1\n",
      "  (1, 368)\t1\n",
      "  (1, 787)\t1\n",
      "  (1, 364)\t1\n",
      "  (1, 84)\t1\n"
     ]
    }
   ],
   "source": [
    "# print(count_vect[:2, :5]) => error\n",
    "print(f'type(feat_vect):{type(feat_vect)}')\n",
    "print(feat_vect[:2, :])"
   ]
  },
  {
   "cell_type": "code",
   "execution_count": 10,
   "metadata": {},
   "outputs": [
    {
     "data": {
      "text/plain": [
       "LatentDirichletAllocation(batch_size=128, doc_topic_prior=None,\n",
       "                          evaluate_every=-1, learning_decay=0.7,\n",
       "                          learning_method='batch', learning_offset=10.0,\n",
       "                          max_doc_update_iter=100, max_iter=10,\n",
       "                          mean_change_tol=0.001, n_components=8, n_jobs=None,\n",
       "                          perp_tol=0.1, random_state=0, topic_word_prior=None,\n",
       "                          total_samples=1000000.0, verbose=0)"
      ]
     },
     "execution_count": 10,
     "metadata": {},
     "output_type": "execute_result"
    }
   ],
   "source": [
    "# LDA(Latent Dirichlet Allocation 중심단어 추출\n",
    "lda = LatentDirichletAllocation(n_components=8, random_state=0)\n",
    "lda.fit(feat_vect)"
   ]
  },
  {
   "cell_type": "code",
   "execution_count": 11,
   "metadata": {},
   "outputs": [
    {
     "name": "stdout",
     "output_type": "stream",
     "text": [
      "<class 'numpy.ndarray'>\n",
      "(8, 1000)\n"
     ]
    },
    {
     "data": {
      "text/plain": [
       "array([[3.60992018e+01, 1.35626798e+02, 2.15751867e+01, ...,\n",
       "        3.02911688e+01, 8.66830093e+01, 6.79285199e+01],\n",
       "       [1.25199920e-01, 1.44401815e+01, 1.25045596e-01, ...,\n",
       "        1.81506995e+02, 1.25097844e-01, 9.39593286e+01],\n",
       "       [3.34762663e+02, 1.25176265e-01, 1.46743299e+02, ...,\n",
       "        1.25105772e-01, 3.63689741e+01, 1.25025218e-01],\n",
       "       ...,\n",
       "       [3.60204965e+01, 2.08640688e+01, 4.29606813e+00, ...,\n",
       "        1.45056650e+01, 8.33854413e+00, 1.55690009e+01],\n",
       "       [1.25128711e-01, 1.25247756e-01, 1.25005143e-01, ...,\n",
       "        9.17278769e+01, 1.25177668e-01, 3.74575887e+01],\n",
       "       [5.49258690e+01, 4.47009532e+00, 9.88524814e+00, ...,\n",
       "        4.87048440e+01, 1.25034678e-01, 1.25074632e-01]])"
      ]
     },
     "execution_count": 11,
     "metadata": {},
     "output_type": "execute_result"
    }
   ],
   "source": [
    "print(type(lda.components_))\n",
    "print(lda.components_.shape)\n",
    "lda.components_\n",
    "# 8개의 토픽별로 1000개의 word 피처가 해당토픽별로 연관도 값을 가지고 있음"
   ]
  },
  {
   "cell_type": "code",
   "execution_count": 15,
   "metadata": {},
   "outputs": [
    {
     "name": "stdout",
     "output_type": "stream",
     "text": [
      "type(feature_names):<class 'list'>\n",
      "\n",
      "len(feature_names):1000\n",
      "\n",
      "feature_names[:15]:['00', '000', '01', '02', '03', '04', '05', '10', '100', '11', '12', '128', '13', '14', '15']\n",
      "\n",
      "Topic # 0\n",
      "topic_word_indexes:[994   7 374 563 420 868  10  23 280 164  22 375 995 651 390]\n",
      "year 10 game medical health team 12 20 disease cancer 1993 games years patients good\n",
      "\n",
      "Topic # 1\n",
      "topic_word_indexes:[291 485 517 492 655 769 881 885 934 269 758 388 773 528 951]\n",
      "don just like know people said think time ve didn right going say ll way\n",
      "\n",
      "Topic # 2\n",
      "topic_word_indexes:[451 353 484 699 382 452 634 365 354 203 319   0 921 140   4]\n",
      "image file jpeg program gif images output format files color entry 00 use bit 03\n",
      "\n",
      "Topic # 3\n",
      "topic_word_indexes:[517 492 291 881 921 286 485 390 885 147 719 462 655 922 678]\n",
      "like know don think use does just good time book read information people used post\n",
      "\n",
      "Topic # 4\n",
      "topic_word_indexes:[107 474 108 481 905 655 475 480 393 947 296 904  98 106   1]\n",
      "armenian israel armenians jews turkish people israeli jewish government war dos dos turkey arab armenia 000\n",
      "\n",
      "Topic # 5\n",
      "topic_word_indexes:[312 205 119 394 370 246 706 586 545 959 815 578 462 935 854]\n",
      "edu com available graphics ftp data pub motif mail widget software mit information version sun\n",
      "\n",
      "Topic # 6\n",
      "topic_word_indexes:[386 655 479 190 134 186 286 187 773 881 189 137 340 807 515]\n",
      "god people jesus church believe christ does christian say think christians bible faith sin life\n",
      "\n",
      "Topic # 7\n",
      "topic_word_indexes:[921 295 876 966 928 964 286 282 427 517 692 793 600 492 765]\n",
      "use dos thanks windows using window does display help like problem server need know run\n",
      "\n"
     ]
    }
   ],
   "source": [
    "# 각 토피별로 연관도가 높은 순으로 word 나열\n",
    "def display_topics(model, feature_names, no_top_words):\n",
    "    for topic_index, topic in enumerate(model.components_):\n",
    "        print('Topic #',topic_index)\n",
    "\n",
    "        # components_ array에서 가장 값이 큰 순으로 정렬했을 때, 그 값의 array index를 반환. # pd에서 idxmax() 명칭기반(보이는 index) 리턴함\n",
    "        topic_word_indexes = topic.argsort()[::-1]  # topic 1000개중에서 slicing\n",
    "        print(f'topic_word_indexes:{topic_word_indexes[:15]}')\n",
    "        # no_top_words 인자(15개)만큼만 \n",
    "        top_indexes=topic_word_indexes[:no_top_words]\n",
    "        \n",
    "        # top_indexes대상인 index별로 feature_names에 해당하는 word feature 추출 후 join으로 concat\n",
    "#         for i in top_indexes:\n",
    "#             print(i)\n",
    "#             print(feature_names[i])\n",
    "        feature_concat = ' '.join([feature_names[i] for i in top_indexes]) \n",
    "        # feature_names[i] ===> year, 10, game, ,,,,,\n",
    "        # 공백' ' +  list안의 문자(str)들을 합쳐 하나의 문장으로\n",
    "        print(f'{feature_concat}\\n')\n",
    "\n",
    "# CountVectorizer객체내의 전체 word들의 명칭을 get_features_names( )를 통해 추출\n",
    "feature_names = count_vect.get_feature_names() # \n",
    "print(f'type(feature_names):{type(feature_names)}\\n') # list\n",
    "print(f'len(feature_names):{len(feature_names)}\\n') # 1000\n",
    "print(f'feature_names[:15]:{feature_names[:15]}\\n') # ['00', '000', '01', '02', '03', '04', '05', '10', '100', '11', '12', '128', '13', '14', '15']\n",
    "# 강사님 설명에서 단어가 반환된다고 함\n",
    "\n",
    "# Topic별 가장 연관도가 높은 word를 15개만 추출\n",
    "display_topics(lda, feature_names, 15)\n"
   ]
  },
  {
   "cell_type": "code",
   "execution_count": null,
   "metadata": {},
   "outputs": [],
   "source": []
  }
 ],
 "metadata": {
  "kernelspec": {
   "display_name": "Python 3",
   "language": "python",
   "name": "python3"
  },
  "language_info": {
   "codemirror_mode": {
    "name": "ipython",
    "version": 3
   },
   "file_extension": ".py",
   "mimetype": "text/x-python",
   "name": "python",
   "nbconvert_exporter": "python",
   "pygments_lexer": "ipython3",
   "version": "3.7.3"
  }
 },
 "nbformat": 4,
 "nbformat_minor": 2
}
