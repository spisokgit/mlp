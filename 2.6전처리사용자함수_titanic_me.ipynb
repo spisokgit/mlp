{
 "cells": [
  {
   "cell_type": "code",
   "execution_count": 1,
   "metadata": {},
   "outputs": [],
   "source": [
    "import pandas as pd\n",
    "import numpy as np\n",
    "from sklearn.preprocessing import LabelEncoder"
   ]
  },
  {
   "cell_type": "code",
   "execution_count": 2,
   "metadata": {},
   "outputs": [],
   "source": [
    "def encode_features(df):\n",
    "    df['Cabin']=df['Cabin'].str[:1]\n",
    "    features = ['Cabin', 'Sex', 'Embarked']\n",
    "    for f in features:\n",
    "        le=LabelEncoder()\n",
    "        le.fit(df[f])\n",
    "        df[f]=le.transform(df[f])\n",
    "    return df\n",
    "\n",
    "\n",
    "#null 처리 함수\n",
    "def fillna(df):\n",
    "    df['Age'].fillna(df['Age'].mean(), inplace=True)\n",
    "    df['Cabin'].fillna('N', inplace=True)\n",
    "    df['Embarked'].fillna('N', inplace=True)\n",
    "    df['Fare'].fillna(0, inplace=True)\n",
    "    return df\n",
    "\n",
    "#불필요한  feature 제거 함수\n",
    "def drop_feature(df):\n",
    "    df.drop(['PassengerId', 'Name', 'Ticket'], axis=1, inplace=True)\n",
    "    return df\n",
    "\n",
    "def transform_features(df):\n",
    "    df = fillna(df)\n",
    "    df = drop_feature(df)\n",
    "    df = encode_features(df)\n",
    "    return df\n",
    "\n",
    "df=pd.read_csv('titanic_train.csv')\n",
    "y_df = df['Survived']\n",
    "x_df = df.drop('Survived', axis=1)\n",
    "x_df = transform_features(x_df)"
   ]
  },
  {
   "cell_type": "code",
   "execution_count": 4,
   "metadata": {},
   "outputs": [],
   "source": [
    "from sklearn.model_selection import train_test_split\n",
    "x_train, x_test, y_train, y_test=train_test_split(x_df,y_df,test_size=0.2, random_state=11 )"
   ]
  },
  {
   "cell_type": "code",
   "execution_count": 5,
   "metadata": {},
   "outputs": [],
   "source": [
    "from sklearn.tree import DecisionTreeClassifier\n",
    "from sklearn.ensemble import RandomForestClassifier\n",
    "from sklearn.linear_model import LogisticRegression\n",
    "from sklearn.metrics import accuracy_score\n",
    "\n",
    "dt_clf=DecisionTreeClassifier()\n",
    "rf_clf=RandomForestClassifier()\n",
    "lr_clf=LogisticRegression()\n",
    "\n",
    "#DecisionTreeClassifier\n",
    "dt_clf.fit(x_train, y_train)\n",
    "pred=dt_clf.predict(x_test)\n",
    "print(f'#DecisionTreeClassifier accuracy_score(y_test, pred):{accuracy_score(y_test, pred)}')\n",
    "\n",
    "#RandomForestClassifier\n",
    "rf_clf.fit(x_train,y_train)\n",
    "pred=rf_clf.predict(x_test)\n",
    "print(f'#RandomForestClassifier accuracy_score(y_test, pred):{accuracy_score(y_test, pred)}')\n",
    "      \n",
    "#LogisticRegression\n",
    "lr_clf.fit(x_train, y_train)\n",
    "pred=lr_clf.predict(x_test)\n",
    "print(f'#LogisticRegression accuracy_score(y_test, pred) : {accuracy_score(y_test, pred)}')      \n"
   ]
  },
  {
   "cell_type": "code",
   "execution_count": 7,
   "metadata": {},
   "outputs": [
    {
     "data": {
      "text/html": [
       "<div>\n",
       "<style scoped>\n",
       "    .dataframe tbody tr th:only-of-type {\n",
       "        vertical-align: middle;\n",
       "    }\n",
       "\n",
       "    .dataframe tbody tr th {\n",
       "        vertical-align: top;\n",
       "    }\n",
       "\n",
       "    .dataframe thead th {\n",
       "        text-align: right;\n",
       "    }\n",
       "</style>\n",
       "<table border=\"1\" class=\"dataframe\">\n",
       "  <thead>\n",
       "    <tr style=\"text-align: right;\">\n",
       "      <th></th>\n",
       "      <th>Pclass</th>\n",
       "      <th>Sex</th>\n",
       "      <th>Age</th>\n",
       "      <th>SibSp</th>\n",
       "      <th>Parch</th>\n",
       "      <th>Fare</th>\n",
       "      <th>Cabin</th>\n",
       "      <th>Embarked</th>\n",
       "    </tr>\n",
       "  </thead>\n",
       "  <tbody>\n",
       "    <tr>\n",
       "      <td>0</td>\n",
       "      <td>3</td>\n",
       "      <td>1</td>\n",
       "      <td>22.0</td>\n",
       "      <td>1</td>\n",
       "      <td>0</td>\n",
       "      <td>7.2500</td>\n",
       "      <td>7</td>\n",
       "      <td>3</td>\n",
       "    </tr>\n",
       "    <tr>\n",
       "      <td>1</td>\n",
       "      <td>1</td>\n",
       "      <td>0</td>\n",
       "      <td>38.0</td>\n",
       "      <td>1</td>\n",
       "      <td>0</td>\n",
       "      <td>71.2833</td>\n",
       "      <td>2</td>\n",
       "      <td>0</td>\n",
       "    </tr>\n",
       "    <tr>\n",
       "      <td>2</td>\n",
       "      <td>3</td>\n",
       "      <td>0</td>\n",
       "      <td>26.0</td>\n",
       "      <td>0</td>\n",
       "      <td>0</td>\n",
       "      <td>7.9250</td>\n",
       "      <td>7</td>\n",
       "      <td>3</td>\n",
       "    </tr>\n",
       "  </tbody>\n",
       "</table>\n",
       "</div>"
      ],
      "text/plain": [
       "   Pclass  Sex   Age  SibSp  Parch     Fare  Cabin  Embarked\n",
       "0       3    1  22.0      1      0   7.2500      7         3\n",
       "1       1    0  38.0      1      0  71.2833      2         0\n",
       "2       3    0  26.0      0      0   7.9250      7         3"
      ]
     },
     "execution_count": 7,
     "metadata": {},
     "output_type": "execute_result"
    }
   ],
   "source": [
    "x_df.head(3)"
   ]
  },
  {
   "cell_type": "code",
   "execution_count": 8,
   "metadata": {},
   "outputs": [
    {
     "data": {
      "text/plain": [
       "0    0\n",
       "1    1\n",
       "2    1\n",
       "Name: Survived, dtype: int64"
      ]
     },
     "execution_count": 8,
     "metadata": {},
     "output_type": "execute_result"
    }
   ],
   "source": [
    "y_df.head(3)"
   ]
  },
  {
   "cell_type": "code",
   "execution_count": 9,
   "metadata": {},
   "outputs": [
    {
     "name": "stdout",
     "output_type": "stream",
     "text": [
      "iter_count:0, accuracy : 0.7486\n",
      "iter_count:1, accuracy : 0.7584\n",
      "iter_count:2, accuracy : 0.7865\n",
      "iter_count:3, accuracy : 0.7584\n",
      "iter_count:4, accuracy : 0.8371\n",
      "mean_score : 0.7778\n"
     ]
    }
   ],
   "source": [
    "#KFold\n",
    "from sklearn.model_selection import KFold\n",
    "\n",
    "def exec_kfold(clf, folds=5):\n",
    "    kfold=KFold(n_splits=folds)\n",
    "    scores=[]\n",
    "    \n",
    "    for iter_count, (train_index, test_index) in enumerate(kfold.split(x_df)):\n",
    "        x_train, x_test = x_df.values[train_index], x_df.values[test_index]\n",
    "        y_train, y_test = y_df.values[train_index], y_df.values[test_index]\n",
    "        \n",
    "        clf.fit(x_train, y_train)\n",
    "        pred=clf.predict(x_test)\n",
    "        accuracy = accuracy_score(y_test, pred)\n",
    "        scores.append(accuracy)\n",
    "        print(f'iter_count:{iter_count}, kfold accuracy : {accuracy:.4f}')\n",
    "        \n",
    "    mean_score = np.mean(scores)\n",
    "    print(f'kfold mean_score : {mean_score:.4f}')\n",
    "\n",
    "exec_kfold(dt_clf, folds=5)"
   ]
  },
  {
   "cell_type": "code",
   "execution_count": 11,
   "metadata": {},
   "outputs": [
    {
     "name": "stdout",
     "output_type": "stream",
     "text": [
      "cross_val_score accuracy : 0.7542\n",
      "cross_val_score accuracy : 0.7877\n",
      "cross_val_score accuracy : 0.7978\n",
      "cross_val_score accuracy : 0.7865\n",
      "cross_val_score accuracy : 0.8249\n",
      "mean_score : 0.7902\n"
     ]
    }
   ],
   "source": [
    "# cross_val_score ==> StratifiedKFold\n",
    "from sklearn.model_selection import cross_val_score\n",
    "\n",
    "scores = cross_val_score(dt_clf, x, y, cv=5)\n",
    "for iter_count, accuracy in enumerate(scores):\n",
    "    print(f'cross_val_score accuracy : {accuracy:.4f}')\n",
    "    \n",
    "print(f'mean_score : {np.mean(scores):.4f}')"
   ]
  },
  {
   "cell_type": "code",
   "execution_count": 14,
   "metadata": {},
   "outputs": [
    {
     "name": "stdout",
     "output_type": "stream",
     "text": [
      "grid_dclf.best_params_ : \n",
      "{'max_depth': 3, 'min_samples_leaf': 1, 'min_samples_split': 5}\n",
      "grid_dclf.best_score_ : 0.7991573033707865\n",
      "best_estimator_ accuracy_score(y_test, dpred) : 0.8715\n"
     ]
    },
    {
     "name": "stderr",
     "output_type": "stream",
     "text": [
      "/opt/conda/lib/python3.7/site-packages/sklearn/model_selection/_search.py:814: DeprecationWarning: The default of the `iid` parameter will change from True to False in version 0.22 and will be removed in 0.24. This will change numeric results when test-set sizes are unequal.\n",
      "  DeprecationWarning)\n"
     ]
    }
   ],
   "source": [
    "from sklearn.model_selection import GridSearchCV\n",
    "\n",
    "p={'max_depth' : [2,3,5,10], 'min_samples_split' : [2,3,5], 'min_samples_leaf':[1,5,8]}\n",
    "\n",
    "grid_dclf = GridSearchCV(dt_clf, param_grid=p, scoring='accuracy', cv=5)\n",
    "grid_dclf.fit(x_train, y_train)\n",
    "\n",
    "# grid_dclf.cv_results_중에서\n",
    "print(f'grid_dclf.best_params_ : \\n{grid_dclf.best_params_}')\n",
    "print(f'grid_dclf.best_score_ : {grid_dclf.best_score_}')\n",
    "\n",
    "best_dclf = grid_dclf.best_estimator_\n",
    "dpred=best_dclf.predict(x_test)\n",
    "print(f'best_estimator_ accuracy_score(y_test, dpred) : {accuracy_score(y_test, dpred):.4f}')\n"
   ]
  },
  {
   "cell_type": "code",
   "execution_count": null,
   "metadata": {},
   "outputs": [],
   "source": []
  }
 ],
 "metadata": {
  "kernelspec": {
   "display_name": "Python 3",
   "language": "python",
   "name": "python3"
  },
  "language_info": {
   "codemirror_mode": {
    "name": "ipython",
    "version": 3
   },
   "file_extension": ".py",
   "mimetype": "text/x-python",
   "name": "python",
   "nbconvert_exporter": "python",
   "pygments_lexer": "ipython3",
   "version": "3.7.3"
  }
 },
 "nbformat": 4,
 "nbformat_minor": 2
}
